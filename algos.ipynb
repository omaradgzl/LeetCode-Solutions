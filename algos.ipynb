{
 "cells": [
  {
   "cell_type": "markdown",
   "metadata": {},
   "source": [
    "# __Notebook for leetcode problems.__"
   ]
  },
  {
   "attachments": {},
   "cell_type": "markdown",
   "metadata": {},
   "source": [
    "#### __Valid Sudoku__\n"
   ]
  },
  {
   "attachments": {},
   "cell_type": "markdown",
   "metadata": {},
   "source": [
    "Determine if a 9 x 9 Sudoku board is valid. Only the filled cells need to be validated according to the following rules: <br></br>\n",
    "Each row must contain the digits 1-9 without repetition.<br></br>\n",
    "Each column must contain the digits 1-9 without repetition.<br></br>\n",
    "Each of the nine 3 x 3 sub-boxes of the grid must contain the digits 1-9 without repetition.<br></br>\n",
    "Note:\n",
    "A Sudoku board (partially filled) could be valid but is not necessarily solvable.<br></br>\n",
    "Only the filled cells need to be validated according to the mentioned rules.<br></br>\n",
    "Input: <br></br>\n",
    "board = <br></br>\n",
    "[[\"5\",\"3\",\".\",\"7\",\".\",\".\",\".\",\".\",\".\"]<br></br>\n",
    ",[\"6\",\".\",\".\",\"1\",\"9\",\"5\",\".\",\".\",\".\"]<br></br>\n",
    ",[\".\",\"9\",\"8\",\".\",\".\",\".\",\".\",\"6\",\".\"]<br></br>\n",
    ",[\"8\",\".\",\".\",\".\",\"6\",\".\",\".\",\".\",\"3\"]<br></br>\n",
    ",[\"4\",\".\",\".\",\"8\",\".\",\"3\",\".\",\".\",\"1\"]<br></br>\n",
    ",[\"7\",\".\",\".\",\".\",\"2\",\".\",\".\",\".\",\"6\"]<br></br>\n",
    ",[\".,\"6\",\".\",\".\",\".\",\".\",\"2\",\"8\",\".\"]<br></br>\n",
    ",[\".\",\".\",\".\",\"4\",\"1\",\"9\",\".\",\".\",\"5\"]<br></br>\n",
    ",[\".\",\".\",\".\",\".\",\"8\",\".\",\".\",\"7\",\"9\"]]<br></br>\n",
    "\n"
   ]
  },
  {
   "cell_type": "code",
   "execution_count": 13,
   "metadata": {},
   "outputs": [
    {
     "data": {
      "text/plain": [
       "True"
      ]
     },
     "execution_count": 13,
     "metadata": {},
     "output_type": "execute_result"
    }
   ],
   "source": [
    "sudoku = [\n",
    " [\"8\",\"3\",\".\",\".\",\"7\",\".\",\".\",\".\",\".\"]\n",
    ",[\"6\",\".\",\".\",\"1\",\"9\",\"5\",\".\",\".\",\".\"]\n",
    ",[\".\",\"9\",\"5\",\".\",\".\",\".\",\".\",\"6\",\".\"]\n",
    ",[\".\",\".\",\".\",\".\",\"6\",\".\",\".\",\".\",\"3\"]\n",
    ",[\"4\",\".\",\".\",\"8\",\".\",\"3\",\".\",\".\",\"1\"]\n",
    ",[\"7\",\".\",\".\",\".\",\"2\",\".\",\".\",\".\",\"6\"]\n",
    ",[\".\",\"6\",\".\",\".\",\".\",\".\",\"2\",\"8\",\".\"]\n",
    ",[\".\",\".\",\".\",\"4\",\"1\",\"9\",\".\",\".\",\"5\"]\n",
    ",[\".\",\".\",\".\",\".\",\"8\",\".\",\".\",\"7\",\"9\"]]\n",
    "\n",
    "def isValidSudoku(sudoku):\n",
    "    a = list(map(list, zip(*sudoku)))\n",
    "    sudokus = [sudoku,a] \n",
    "    for i in sudokus:\n",
    "        for index,data in enumerate(i):\n",
    "            data = list(filter(lambda a: a != \".\", data))\n",
    "            if len(data) != len(set(data)):\n",
    "                return False\n",
    "    for i in [0,3,6]:\n",
    "        for j in [0,3,6]:\n",
    "            sudokuTriplet = [item[i:i+3] for item in sudoku[j:j+3]]\n",
    "            subTriplet = [j for i in sudokuTriplet for j in i]\n",
    "            subtTriplet = list(filter(lambda a: a != \".\", subTriplet))\n",
    "            if len(subtTriplet) != len(set(subtTriplet)):\n",
    "                return False\n",
    "    return True\n",
    "        \n",
    "isValidSudoku(sudoku)\n"
   ]
  },
  {
   "cell_type": "markdown",
   "metadata": {},
   "source": [
    "#### __Median of Two Sorted Arrays__\n"
   ]
  },
  {
   "attachments": {},
   "cell_type": "markdown",
   "metadata": {},
   "source": [
    "Given two sorted arrays nums1 and nums2 of size m and n respectively, return the median of the two sorted arrays.\n",
    "<br></br>The overall run time complexity should be O(log (m+n)).\n",
    "\n",
    "<br></br>Example 1:\n",
    "<br></br>Input: nums1 = [1,3], nums2 = [2]\n",
    "<br></br>Output: 2.00000\n",
    "<br></br>Explanation: merged array = [1,2,3] and median is 2."
   ]
  },
  {
   "cell_type": "code",
   "execution_count": 14,
   "metadata": {
    "scrolled": true
   },
   "outputs": [
    {
     "data": {
      "text/plain": [
       "4.0"
      ]
     },
     "execution_count": 14,
     "metadata": {},
     "output_type": "execute_result"
    }
   ],
   "source": [
    "nums1 = [1,3,5,7,8] \n",
    "nums2 = [2,4] \n",
    "def findMedianSortedArrays(nums1,nums2):\n",
    "    nums = sorted(nums1+nums2)\n",
    "    mid = len(nums) // 2\n",
    "    return (nums[mid] + nums[~mid]) / 2\n",
    "    \n",
    "findMedianSortedArrays(nums1,nums2)"
   ]
  },
  {
   "cell_type": "markdown",
   "metadata": {},
   "source": [
    "#### __Strong Password Checker__\n"
   ]
  },
  {
   "cell_type": "markdown",
   "metadata": {},
   "source": [
    "A password is considered strong if the below conditions are all met:\n",
    "\n",
    "<br></br>It has at least 6 characters and at most 20 characters.\n",
    "<br></br>It contains at least one lowercase letter, at least one uppercase letter, and at least one digit.\n",
    "<br></br>It does not contain three repeating characters in a row (i.e., \"...aaa...\" is weak, but \"...aa...a...\" is strong, assuming other conditions are met).\n",
    "<br></br>Given a string password, return the minimum number of steps required to make password strong. if password is already strong, return 0.\n",
    "<br></br>\n",
    "<br></br>In one step, you can:\n",
    "<br></br>\n",
    "<br></br>Insert one character to password,\n",
    "<br></br>Delete one character from password, or\n",
    "<br></br>Replace one character of password with another character.\n",
    "<br></br> \n",
    "<br></br>\n",
    "<br></br>Example 1:\n",
    "<br></br>Input: password = \"a\"\n",
    "<br></br>Output: 5\n",
    "<br></br>\n",
    "<br></br>Example 2:\n",
    "<br></br>Input: password = \"aA1\"\n",
    "<br></br>Output: 3\n",
    "<br></br>\n",
    "<br></br>Example 3:\n",
    "<br></br>Input: password = \"1337C0d3\"\n",
    "<br></br>Output: 0"
   ]
  },
  {
   "cell_type": "code",
   "execution_count": 15,
   "metadata": {},
   "outputs": [
    {
     "name": "stdout",
     "output_type": "stream",
     "text": [
      "s s s\n",
      "6\n"
     ]
    },
    {
     "ename": "NameError",
     "evalue": "name 'isAllLower' is not defined",
     "output_type": "error",
     "traceback": [
      "\u001b[1;31m---------------------------------------------------------------------------\u001b[0m",
      "\u001b[1;31mNameError\u001b[0m                                 Traceback (most recent call last)",
      "\u001b[1;32mC:\\Users\\INTOME~1.ADI\\AppData\\Local\\Temp/ipykernel_12932/3308530738.py\u001b[0m in \u001b[0;36m<module>\u001b[1;34m\u001b[0m\n\u001b[0;32m     61\u001b[0m \u001b[1;33m\u001b[0m\u001b[0m\n\u001b[0;32m     62\u001b[0m \u001b[1;33m\u001b[0m\u001b[0m\n\u001b[1;32m---> 63\u001b[1;33m \u001b[0mstrongPasswordChecker\u001b[0m\u001b[1;33m(\u001b[0m\u001b[0mpasswords\u001b[0m\u001b[1;33m[\u001b[0m\u001b[1;36m1\u001b[0m\u001b[1;33m]\u001b[0m\u001b[1;33m)\u001b[0m\u001b[1;33m\u001b[0m\u001b[1;33m\u001b[0m\u001b[0m\n\u001b[0m",
      "\u001b[1;32mC:\\Users\\INTOME~1.ADI\\AppData\\Local\\Temp/ipykernel_12932/3308530738.py\u001b[0m in \u001b[0;36mstrongPasswordChecker\u001b[1;34m(password)\u001b[0m\n\u001b[0;32m     18\u001b[0m             \u001b[0mi\u001b[0m\u001b[1;33m+=\u001b[0m\u001b[1;36m1\u001b[0m\u001b[1;33m\u001b[0m\u001b[1;33m\u001b[0m\u001b[0m\n\u001b[0;32m     19\u001b[0m     \u001b[0misRepeatin\u001b[0m \u001b[1;33m=\u001b[0m \u001b[0mint\u001b[0m\u001b[1;33m(\u001b[0m\u001b[0mj\u001b[0m\u001b[1;33m/\u001b[0m\u001b[1;36m3\u001b[0m\u001b[1;33m)\u001b[0m\u001b[1;33m\u001b[0m\u001b[1;33m\u001b[0m\u001b[0m\n\u001b[1;32m---> 20\u001b[1;33m     \u001b[0msteps\u001b[0m \u001b[1;33m=\u001b[0m \u001b[0misAllLower\u001b[0m \u001b[1;33m+\u001b[0m \u001b[0misAllUpper\u001b[0m \u001b[1;33m+\u001b[0m \u001b[0misAnyDigit\u001b[0m\u001b[1;33m\u001b[0m\u001b[1;33m\u001b[0m\u001b[0m\n\u001b[0m\u001b[0;32m     21\u001b[0m     \u001b[0mprint\u001b[0m\u001b[1;33m(\u001b[0m\u001b[0misAllLower\u001b[0m\u001b[1;33m,\u001b[0m\u001b[0misAllUpper\u001b[0m\u001b[1;33m,\u001b[0m\u001b[0misAnyDigit\u001b[0m\u001b[1;33m,\u001b[0m\u001b[0misRepeatin\u001b[0m\u001b[1;33m,\u001b[0m\u001b[0mgroups\u001b[0m\u001b[1;33m)\u001b[0m\u001b[1;33m\u001b[0m\u001b[1;33m\u001b[0m\u001b[0m\n\u001b[0;32m     22\u001b[0m \u001b[1;33m\u001b[0m\u001b[0m\n",
      "\u001b[1;31mNameError\u001b[0m: name 'isAllLower' is not defined"
     ]
    }
   ],
   "source": [
    "passwords = [\"FFFFFFFFFFFFFFF11111111111111111111AAA\" , \"ssSsss \", \"1337C0d3\", \"aaa111\",\"aaa123\",\"1111111111\",\"ABABABABABABABABABAB1\",\"bbaaaaaaaaaaaaaaacccccc\",\"aaaaAAAAAA000000123456\"]\n",
    "\n",
    "def strongPasswordChecker(password: str) -> int:\n",
    "    lenOfPass = len(password)\n",
    "    needsUpper = password.islower()\n",
    "    needsLower = password.isupper()\n",
    "    needsDigit = not any(chr.isdigit() for chr in password)\n",
    "    isRepeatin = 0\n",
    "    i = 1\n",
    "    j = 0\n",
    "    while(i < len(password)-1):\n",
    "        if password[i-1] == password[i] == password[i+1]:\n",
    "            print(password[i-1], password[i],password[i+1])\n",
    "            i = i+2\n",
    "            print(i)\n",
    "            j = i\n",
    "        else:\n",
    "            i+=1\n",
    "    isRepeatin = int(j/3)\n",
    "    steps = isAllLower + isAllUpper + isAnyDigit\n",
    "    print(isAllLower,isAllUpper,isAnyDigit,isRepeatin,groups)\n",
    "\n",
    "\n",
    "\n",
    "\n",
    "    if lenOfPass < 6:\n",
    "        print(\"a\")\n",
    "        return 6-lenOfPass\n",
    "    elif lenOfPass > 5 and lenOfPass < 21:\n",
    "        print(\"a1\")\n",
    "        return max([steps,isRepeatin])\n",
    "    elif lenOfPass > 20:\n",
    "        print(\"a2\")\n",
    "        toDelete = lenOfPass - 20\n",
    "        if toDelete > isRepeatin:\n",
    "            return toDelete + (toDelete-isRepeatin)\n",
    "        elif toDelete < isRepeatin:\n",
    "            return isRepeatin + (steps-1)\n",
    "        return toDelete + max([steps,isRepeatin])\n",
    "\n",
    "    \n",
    "    \n",
    "    \n",
    "    \n",
    "    \n",
    "    \n",
    "    \n",
    "#     if lenOfPass < 6:\n",
    "#         return 6-lenOfPass\n",
    "#     elif lenOfPass > 20:\n",
    "#         if steps == 0:\n",
    "#             return max([lenOfPass-20,isRepeatin])\n",
    "#         else:\n",
    "#             print()\n",
    "#             return max([lenOfPass-20,max([steps+lenOfPass-20,isRepeatin])]) \n",
    "#     return max([steps,isRepeatin])\n",
    "    \n",
    "     \n",
    "        \n",
    "\n",
    "    \n",
    "\n",
    "strongPasswordChecker(passwords[1])"
   ]
  },
  {
   "cell_type": "markdown",
   "metadata": {},
   "source": [
    "#### __Reverse Integer__\n"
   ]
  },
  {
   "attachments": {},
   "cell_type": "markdown",
   "metadata": {},
   "source": [
    "Given a signed 32-bit integer x, return x with its digits reversed. If reversing x causes the value to go outside the signed 32-bit integer range [-231, 231 - 1], then return 0.\n",
    "\n",
    "<br></br>Assume the environment does not allow you to store 64-bit integers (signed or unsigned).\n",
    "<br></br>\n",
    "<br></br>Example 1:\n",
    "<br></br>Input: x = 123\n",
    "<br></br>Output: 321\n",
    "<br></br>\n",
    "<br></br>Example 2:\n",
    "<br></br>Input: x = -123\n",
    "<br></br>Output: -321\n",
    "<br></br>\n",
    "<br></br>Example 3:\n",
    "<br></br>Input: x = 120\n",
    "<br></br>Output: 21"
   ]
  },
  {
   "cell_type": "code",
   "execution_count": null,
   "metadata": {},
   "outputs": [],
   "source": [
    "target = -2147483648 \n",
    "         \n",
    "def reverse(x):\n",
    "    \n",
    "    a = str(x)[::-1]\n",
    "    if x < 0:\n",
    "        a = int(a[-1] + a[0:len(a)-1])\n",
    "    else:\n",
    "        a = int(a)\n",
    "    if not(abs(a)<1<<31):\n",
    "        return 0\n",
    "    return a\n",
    "\n",
    "reverse(target)"
   ]
  },
  {
   "cell_type": "markdown",
   "metadata": {},
   "source": [
    "#### __Add Two Numbers__"
   ]
  },
  {
   "attachments": {},
   "cell_type": "markdown",
   "metadata": {},
   "source": [
    "You are given two non-empty linked lists representing two non-negative integers. The digits are stored in reverse order, and each of their nodes contains a single digit. Add the two numbers and return the <br></br>sum as a linked list.\n",
    "<br></br>\n",
    "<br></br>You may assume the two numbers do not contain any leading zero, except the number 0 itself.\n",
    "<br></br>\n",
    "<br></br>Example 1:\n",
    "<br></br>Input: l1 = [2,4,3], l2 = [5,6,4]\n",
    "<br></br>Output: [7,0,8]\n",
    "<br></br>\n",
    "<br></br>Example 2:\n",
    "<br></br>Input: l1 = [0], l2 = [0]\n",
    "<br></br>Output: [0]\n",
    "<br></br>\n",
    "<br></br>Example 3:\n",
    "<br></br>Input: l1 = [9,9,9,9,9,9,9], l2 = [9,9,9,9]\n",
    "<br></br>Output: [8,9,9,9,0,0,0,1]"
   ]
  },
  {
   "cell_type": "code",
   "execution_count": null,
   "metadata": {},
   "outputs": [
    {
     "data": {
      "text/plain": [
       "[8, 0, 7]"
      ]
     },
     "execution_count": 40,
     "metadata": {},
     "output_type": "execute_result"
    }
   ],
   "source": [
    "# Definition for singly-linked list.\n",
    "class ListNode:\n",
    "    def __init__(self, val=0, next=None):\n",
    "        self.val = val\n",
    "        self.next = next\n",
    "class Solution:\n",
    "    def addTwoNumbers(l1, l2):\n",
    "        prettyL1 = []\n",
    "        prettyL2 = []\n",
    "        while l1 != None:\n",
    "            prettyL1.append(l1.val)\n",
    "            if l1.next == None:\n",
    "                l1 = None\n",
    "            else:\n",
    "                l1 = l1.next\n",
    "        while l2 != None:\n",
    "            prettyL2.append(l2.val)\n",
    "            if l2.next == None:\n",
    "                l2 = None\n",
    "            else:\n",
    "                l2 = l2.next\n",
    "        \n",
    "        prettyL1 = prettyL1[::-1]\n",
    "        prettyL2 = prettyL2[::-1]\n",
    "        dif = len(prettyL1)-len(prettyL2)\n",
    "        if dif>0:\n",
    "            prettyL2.append(0*dif)\n",
    "        if dif<0:\n",
    "            prettyL1.append(0*dif)\n",
    "        finalNums = []\n",
    "        for i in[prettyL1,prettyL2]:\n",
    "            strings = [str(integer) for integer in i]\n",
    "            a_string = \"\".join(strings)\n",
    "            an_integer = int(a_string)\n",
    "            finalNums.append(an_integer)\n",
    "       \n",
    "        return [int(x) for x in str(sum(finalNums))] ##actually \"F\" the returntype ListNode\n",
    "        \n",
    "        \n",
    "    \n",
    "    \n",
    "l33 = ListNode(3,None)\n",
    "l22 = ListNode(4,l33)\n",
    "l11 = ListNode(2,l22)\n",
    "l66 = ListNode(4,None)\n",
    "l55 = ListNode(6,l66)\n",
    "l44 = ListNode(5,l55)\n",
    "\n",
    "Solution.addTwoNumbers(l11,l44)"
   ]
  },
  {
   "cell_type": "markdown",
   "metadata": {},
   "source": [
    "#### __Sqrt(x)__\n"
   ]
  },
  {
   "attachments": {},
   "cell_type": "markdown",
   "metadata": {},
   "source": [
    "Given a non-negative integer x, compute and return the square root of x.\n",
    "\n",
    "<br></br>Since the return type is an integer, the decimal digits are truncated, and only the integer part of the result is returned.\n",
    "<br></br>\n",
    "<br></br>Note: You are not allowed to use any built-in exponent function or operator, such as pow(x, 0.5) or x ** 0.5.\n",
    "<br></br>\n",
    "<br></br>Example 1:\n",
    "<br></br>Input: x = 4\n",
    "<br></br>Output: 2\n",
    "<br></br>\n",
    "<br></br>Example 2:\n",
    "<br></br>Input: x = 8\n",
    "<br></br>Output: 2\n",
    "<br></br>Explanation: The square root of 8 is 2.82842..., and since the decimal part is truncated, 2 is returned."
   ]
  },
  {
   "cell_type": "code",
   "execution_count": null,
   "metadata": {},
   "outputs": [],
   "source": [
    "def mySqrt(x):\n",
    "    i = 0\n",
    "    while i <= x:\n",
    "        vic = i*i\n",
    "        if vic == x:\n",
    "            return i \n",
    "        elif vic > x:\n",
    "            return i-1\n",
    "        i+=1\n",
    "    return 0\n",
    "mySqrt(29)"
   ]
  },
  {
   "cell_type": "markdown",
   "metadata": {},
   "source": [
    "#### __Destination City__\n"
   ]
  },
  {
   "attachments": {},
   "cell_type": "markdown",
   "metadata": {},
   "source": [
    "You are given the array paths, where paths[i] = [cityAi, cityBi] means there exists a direct path going from cityAi to cityBi. Return the destination city, that is, the city without any path outgoing to <br></br>another city.\n",
    "<br></br>\n",
    "<br></br>It is guaranteed that the graph of paths forms a line without any loop, therefore, there will be exactly one destination city.\n",
    "<br></br>\n",
    "\n",
    "<br></br>Example 1:\n",
    "<br></br>Input: paths = [[\"London\",\"New York\"],[\"New York\",\"Lima\"],[\"Lima\",\"Sao Paulo\"]]\n",
    "<br></br>Output: \"Sao Paulo\" \n",
    "<br></br>Explanation: Starting at \"London\" city you will reach \"Sao Paulo\" city which is the destination city. Your trip consist of: \"London\" -> \"New York\" -> \"Lima\" -> \"Sao Paulo\".\n",
    "<br></br>\n",
    "<br></br>Example 2:\n",
    "<br></br>Input: paths = [[\"B\",\"C\"],[\"D\",\"B\"],[\"C\",\"A\"]]\n",
    "<br></br>Output: \"A\"\n",
    "<br></br>Explanation: All possible trips are: \n",
    "<br></br>\"D\" -> \"B\" -> \"C\" -> \"A\". \n",
    "<br></br>\"B\" -> \"C\" -> \"A\". \n",
    "<br></br>\"C\" -> \"A\". \n",
    "<br></br>\"A\". \n",
    "<br></br>Clearly the destination city is \"A\".\n",
    "<br></br>\n",
    "<br></br>Example 3:\n",
    "<br></br>Input: paths = [[\"A\",\"Z\"]]\n",
    "<br></br>Output: \"Z\""
   ]
  },
  {
   "cell_type": "code",
   "execution_count": null,
   "metadata": {},
   "outputs": [
    {
     "data": {
      "text/plain": [
       "'OAxMijOZgW'"
      ]
     },
     "execution_count": 22,
     "metadata": {},
     "output_type": "execute_result"
    }
   ],
   "source": [
    "paths = [[\"qMTSlfgZlC\",\"ePvzZaqLXj\"],[\"xKhZXfuBeC\",\"TtnllZpKKg\"],[\"ePvzZaqLXj\",\"sxrvXFcqgG\"],[\"sxrvXFcqgG\",\"xKhZXfuBeC\"],[\"TtnllZpKKg\",\"OAxMijOZgW\"]]\n",
    "def destCity(path):\n",
    "    a = len(paths)\n",
    "    i = 0\n",
    "    currentCity = path[0][1]\n",
    "    while i<a:\n",
    "        for index,data in enumerate(path):\n",
    "            if currentCity == data[0]:\n",
    "#                 print(currentCity + \"------>\" + data[1])\n",
    "                currentCity = data[1]\n",
    "        i+=1\n",
    "    return currentCity\n",
    "            \n",
    "destCity(paths)"
   ]
  },
  {
   "cell_type": "code",
   "execution_count": null,
   "metadata": {},
   "outputs": [
    {
     "data": {
      "text/plain": [
       "'OAxMijOZgW'"
      ]
     },
     "execution_count": 23,
     "metadata": {},
     "output_type": "execute_result"
    }
   ],
   "source": [
    "paths = [[\"qMTSlfgZlC\",\"ePvzZaqLXj\"],[\"xKhZXfuBeC\",\"TtnllZpKKg\"],[\"ePvzZaqLXj\",\"sxrvXFcqgG\"],[\"sxrvXFcqgG\",\"xKhZXfuBeC\"],[\"TtnllZpKKg\",\"OAxMijOZgW\"]]\n",
    "def destCityFaster(path):\n",
    "    firstLocs = \"\"\n",
    "    for i in paths:\n",
    "        firstLocs+= i[0]\n",
    "    for i in paths:\n",
    "        if i[1] not in firstLocs:\n",
    "            return i[1]\n",
    "destCityFaster(paths)"
   ]
  },
  {
   "cell_type": "markdown",
   "metadata": {},
   "source": [
    "#### __Reverse Words in a String__\n"
   ]
  },
  {
   "cell_type": "markdown",
   "metadata": {},
   "source": [
    "Given an input string s, reverse the order of the words.\n",
    "\n",
    "<br></br>A word is defined as a sequence of non-space characters. The words in s will be separated by at least one space.\n",
    "<br></br>\n",
    "<br></br>Return a string of the words in reverse order concatenated by a single space.\n",
    "<br></br>\n",
    "<br></br>Note that s may contain leading or trailing spaces or multiple spaces between two words. The returned string should only have a single space separating the words. Do not include any extra spaces.\n",
    "<br></br>\n",
    "<br></br>Example 1:\n",
    "<br></br>Input: s = \"the sky is blue\"\n",
    "<br></br>Output: \"blue is sky the\"\n",
    "<br></br>\n",
    "<br></br>Example 2:\n",
    "<br></br>Input: s = \"  hello world  \"\n",
    "<br></br>Output: \"world hello\"\n",
    "<br></br>Explanation: Your reversed string should not contain leading or trailing spaces.\n",
    "<br></br>\n",
    "<br></br>Example 3:\n",
    "<br></br>Input: s = \"a good   example\"\n",
    "<br></br>Output: \"example good a\"\n",
    "<br></br>Explanation: You need to reduce multiple spaces between two words to a single space in the reversed string."
   ]
  },
  {
   "cell_type": "code",
   "execution_count": null,
   "metadata": {},
   "outputs": [],
   "source": [
    "sentence = \"the sky is blue\"\n",
    "def reverseWords(sentence):\n",
    "    shred = sentence.split()[::-1]\n",
    "    shred = \" \".join(shred)\n",
    "    return shred\n",
    "    \n",
    "reverseWords(sentence)"
   ]
  },
  {
   "cell_type": "markdown",
   "metadata": {},
   "source": [
    "#### __Multiply Strings__\n"
   ]
  },
  {
   "attachments": {},
   "cell_type": "markdown",
   "metadata": {},
   "source": [
    "Given two non-negative integers num1 and num2 represented as strings, return the product of num1 and num2, also represented as a string.\n",
    "\n",
    "<br></br>Note: You must not use any built-in BigInteger library or convert the inputs to integer directly.\n",
    "\n",
    "<br></br>Example 1:\n",
    "<br></br>Input: num1 = \"2\", num2 = \"3\"\n",
    "<br></br>Output: \"6\"\n",
    "<br></br>\n",
    "<br></br>Example 2:\n",
    "<br></br>Input: num1 = \"123\", num2 = \"456\"\n",
    "<br></br>Output: \"56088\""
   ]
  },
  {
   "cell_type": "code",
   "execution_count": null,
   "metadata": {},
   "outputs": [
    {
     "data": {
      "text/plain": [
       "'6'"
      ]
     },
     "execution_count": 10,
     "metadata": {},
     "output_type": "execute_result"
    }
   ],
   "source": [
    "num1 = \"2\"\n",
    "num2 = \"3\"\n",
    "def multiply(num1, num2):\n",
    "        return str(eval(num1 + \"*\" + num2))\n",
    "multiply(num1,num2)"
   ]
  },
  {
   "cell_type": "markdown",
   "metadata": {},
   "source": [
    "#### __Pow(x, n)__\n"
   ]
  },
  {
   "cell_type": "markdown",
   "metadata": {},
   "source": [
    "Implement pow(x, n), which calculates x raised to the power n (i.e., xn).\n",
    "\n",
    "<br></br>Example 1:\n",
    "<br></br>Input: x = 2.00000, n = 10\n",
    "<br></br>Output: 1024.00000\n",
    "<br></br>\n",
    "<br></br>Example 2:\n",
    "<br></br>Input: x = 2.10000, n = 3\n",
    "<br></br>Output: 9.26100\n",
    "<br></br>\n",
    "<br></br>Example 3:\n",
    "<br></br>Input: x = 2.00000, n = -2\n",
    "<br></br>Output: 0.25000"
   ]
  },
  {
   "cell_type": "code",
   "execution_count": null,
   "metadata": {},
   "outputs": [
    {
     "data": {
      "text/plain": [
       "16"
      ]
     },
     "execution_count": 14,
     "metadata": {},
     "output_type": "execute_result"
    }
   ],
   "source": [
    "def myPow(x, n):\n",
    "    ans = 1 \n",
    "    for i in range(0,abs(n)):\n",
    "        ans = ans*x\n",
    "    if n <0:\n",
    "        return 1/ans\n",
    "    else:\n",
    "        return ans\n",
    "myPow(4,2)"
   ]
  },
  {
   "cell_type": "markdown",
   "metadata": {},
   "source": [
    "#### __Capitalize the Title__\n"
   ]
  },
  {
   "attachments": {},
   "cell_type": "markdown",
   "metadata": {},
   "source": [
    "You are given a string title consisting of one or more words separated by a single space, where each word consists of English letters. Capitalize the string by changing the capitalization of each word such <br></br>that:\n",
    "\n",
    "<br></br>If the length of the word is 1 or 2 letters, change all letters to lowercase.\n",
    "<br></br>Otherwise, change the first letter to uppercase and the remaining letters to lowercase.\n",
    "<br></br>Return the capitalized title.\n",
    "<br></br>\n",
    "<br></br>Example 1:\n",
    "<br></br>Input: title = \"capiTalIze tHe titLe\"\n",
    "<br></br>Output: \"Capitalize The Title\"\n",
    "<br></br>Explanation:\n",
    "<br></br>Since all the words have a length of at least 3, the first letter of each word is uppercase, and the remaining letters are lowercase.\n",
    "<br></br>\n",
    "<br></br>Example 2:\n",
    "<br></br>Input: title = \"First leTTeR of EACH Word\"\n",
    "<br></br>Output: \"First Letter of Each Word\"\n",
    "<br></br>Explanation:\n",
    "<br></br>The word \"of\" has length 2, so it is all lowercase.\n",
    "<br></br>The remaining words have a length of at least 3, so the first letter of each remaining word is uppercase, and the remaining letters are lowercase.\n",
    "<br></br>\n",
    "<br></br>Example 3:\n",
    "<br></br>Input: title = \"i lOve leetcode\"\n",
    "<br></br>Output: \"i Love Leetcode\"\n",
    "<br></br>Explanation:\n",
    "<br></br>The word \"i\" has length 1, so it is lowercase.\n",
    "<br></br>The remaining words have a length of at least 3, so the first letter of each remaining word is uppercase, and the remaining letters are lowercase."
   ]
  },
  {
   "cell_type": "code",
   "execution_count": null,
   "metadata": {},
   "outputs": [
    {
     "data": {
      "text/plain": [
       "'Capitalize The Title'"
      ]
     },
     "execution_count": 24,
     "metadata": {},
     "output_type": "execute_result"
    }
   ],
   "source": [
    "title = \"capiTalIze tHe titLe\"\n",
    "def capitalizeTitle(title):\n",
    "    a = title.split()\n",
    "    for i in range(len(a)):\n",
    "        a[i] = a[i].lower()\n",
    "        if len(a[i])>2:\n",
    "            a[i] = a[i].capitalize()\n",
    "\n",
    "    return \" \".join(a)\n",
    "capitalizeTitle(title)"
   ]
  },
  {
   "cell_type": "markdown",
   "metadata": {},
   "source": [
    "#### __String Matching in an Array__\n"
   ]
  },
  {
   "cell_type": "markdown",
   "metadata": {},
   "source": [
    "Given an array of string words. Return all strings in words which is substring of another word in any order. \n",
    "<br></br>\n",
    "<br></br>String words[i] is substring of words[j], if can be obtained removing some characters to left and/or right side of words[j].\n",
    "<br></br>\n",
    "<br></br>Example 1:\n",
    "<br></br>Input: words = [\"mass\",\"as\",\"hero\",\"superhero\"]\n",
    "<br></br>Output: [\"as\",\"hero\"]\n",
    "<br></br>Explanation: \"as\" is substring of \"mass\" and \"hero\" is substring of \"superhero\".\n",
    "<br></br>[\"hero\",\"as\"] is also a valid answer.\n",
    "<br></br>\n",
    "<br></br>Example 2:\n",
    "<br></br>Input: words = [\"leetcode\",\"et\",\"code\"]\n",
    "<br></br>Output: [\"et\",\"code\"]\n",
    "<br></br>Explanation: \"et\", \"code\" are substring of \"leetcode\".\n",
    "<br></br>\n",
    "<br></br>Example 3:\n",
    "<br></br>Input: words = [\"blue\",\"green\",\"bu\"]\n",
    "<br></br>Output: []"
   ]
  },
  {
   "cell_type": "code",
   "execution_count": null,
   "metadata": {},
   "outputs": [
    {
     "data": {
      "text/plain": [
       "['am', 'od', 'leetcode']"
      ]
     },
     "execution_count": 58,
     "metadata": {},
     "output_type": "execute_result"
    }
   ],
   "source": [
    "words = [\"leetcoder\",\"leetcode\",\"od\",\"hamlet\",\"am\"]\n",
    "\n",
    "def stringMatching(words):\n",
    "    ans = []\n",
    "    for i in words:\n",
    "        for index,data in enumerate(words):\n",
    "            if i in data and i != data:\n",
    "                ans.append(i)\n",
    "    return list(set(ans))\n",
    "    \n",
    "stringMatching(words)\n",
    "    \n",
    "    \n",
    "    "
   ]
  },
  {
   "cell_type": "markdown",
   "metadata": {},
   "source": [
    "#### __Not From LeetCode__"
   ]
  },
  {
   "attachments": {},
   "cell_type": "markdown",
   "metadata": {},
   "source": [
    "have the function grouptotals (strarr) read in the strarr parameter containing key:value pairs where the key is a string and the value is an integer. \n",
    "<br></br>your program should return a string with new key:value pairs separated by a comma such that each key appears only once with the total values summed up. \n",
    "<br></br>for example: if strarr is [b: -1, \"a:1\", \"b:3\", \"a:5\"] then your program should return the string a:6,b:2. \n",
    "<br></br>your final output should return the keys in alphabetical order. exclude keys that have a value of 0 after being summed up. \n",
    "<br></br>examples: input: [\"x:-1\", \"y:1\", \"x:-4\", \"b:3\", output: b:3,y:1 input: [\"z:0\", \"a:-1\"] output: a:-1"
   ]
  },
  {
   "cell_type": "code",
   "execution_count": null,
   "metadata": {},
   "outputs": [
    {
     "name": "stdout",
     "output_type": "stream",
     "text": [
      "a:-1,\n",
      "b:3,y:1,\n",
      "a:6,b:2,\n"
     ]
    }
   ],
   "source": [
    "inputs = [[\"z:0\", \"a:-1\"], [\"x:-1\", \"y:1\", \"x:-4\", \"b:3\"],[\"b: -1\", \"a:1\", \"b:3\", \"a:5\"]]\n",
    "\n",
    "def grouptotals(strarr):\n",
    "    vict = {}\n",
    "    ans = \"\"\n",
    "    for data in strarr:\n",
    "        head,tail = data.split(\":\")\n",
    "        if head in vict and not (vict[head] is None):\n",
    "            miniSum = int(vict[head]) + int(tail)\n",
    "            if miniSum > 0 :  \n",
    "                vict[head] = miniSum\n",
    "            else:\n",
    "                del vict[head]\n",
    "        else:\n",
    "            vict[head] = tail\n",
    "    a = sorted(vict)    \n",
    "    for i in a:\n",
    "        if int(vict[i]) != 0:\n",
    "            ans = ans + i + \":\" +str(vict[i]) + \",\"\n",
    "    return ans\n",
    "\n",
    "for i in inputs:\n",
    "    print(grouptotals(i))"
   ]
  },
  {
   "cell_type": "markdown",
   "metadata": {},
   "source": [
    "Given the head of a list, remove the nth node from the end of the list and return its head.\n",
    "<br></br>Input: head = [1,2,3,4,5], n = 2\n",
    "<br></br>Output: [1,2,3,5]\n",
    "<br></br>Input: head = [1], n = 1\n",
    "<br></br>Output: []\n",
    "<br></br>Input: head = [1,2], n = 1\n",
    "<br></br>Output: [1]"
   ]
  },
  {
   "cell_type": "code",
   "execution_count": null,
   "metadata": {},
   "outputs": [
    {
     "name": "stdout",
     "output_type": "stream",
     "text": [
      "[1, 2, 3, 5]\n",
      "[]\n",
      "[1]\n"
     ]
    }
   ],
   "source": [
    "head1 = [1,2,3,4,5]\n",
    "n1 = 2\n",
    "head2 = [1]\n",
    "n2 = 1\n",
    "head3 = [1,2]\n",
    "n3 = 1\n",
    "def removeN(linkedList,n):\n",
    "    i = 0 \n",
    "    try:\n",
    "        while linkedList[i] != None:\n",
    "            i+=1\n",
    "    except:\n",
    "        pass\n",
    "    pos = i-n\n",
    "#     print(pos)\n",
    "    i = 0\n",
    "    while linkedList[i] != None:\n",
    "#         print(i)\n",
    "        if i == pos:\n",
    "            linkedList.pop(i)\n",
    "            return linkedList\n",
    "        i+=1\n",
    "        \n",
    "    \n",
    "    \n",
    "print(removeN(head1,n1))\n",
    "print(removeN(head2,n2))\n",
    "print(removeN(head3,n3))"
   ]
  },
  {
   "cell_type": "markdown",
   "metadata": {},
   "source": [
    "#### __String to Integer (atoi)__"
   ]
  },
  {
   "attachments": {},
   "cell_type": "markdown",
   "metadata": {},
   "source": [
    "Implement the myAtoi(string s) function, which converts a string to a 32-bit signed integer (similar to C/C++'s atoi function).\n",
    "<br></br>\n",
    "<br></br>The algorithm for myAtoi(string s) is as follows:\n",
    "<br></br>\n",
    "<br></br>Read in and ignore any leading whitespace.\n",
    "<br></br>Check if the next character (if not already at the end of the string) is '-' or '+'. Read this character in if it is either. This determines if the final result is negative or positive respectively. Assume the result is positive if neither is present.\n",
    "<br></br>Read in next the characters until the next non-digit character or the end of the input is reached. The rest of the string is ignored.\n",
    "<br></br>Convert these digits into an integer (i.e. \"123\" -> 123, \"0032\" -> 32). If no digits were read, then the integer is 0. Change the sign as necessary (from step 2).\n",
    "<br></br>If the integer is out of the 32-bit signed integer range [-231, 231 - 1], then clamp the integer so that it remains in the range. Specifically, integers less than -231 should be clamped to -231, and integers greater than 231 - 1 should be clamped to 231 - 1.\n",
    "<br></br>Return the integer as the final result.\n",
    "<br></br>Note:\n",
    "<br></br>\n",
    "<br></br>Only the space character ' ' is considered a whitespace character.\n",
    "<br></br>Do not ignore any characters other than the leading whitespace or the rest of the string after the digits.\n",
    "<br></br> \n",
    "<br></br>Example 1:\n",
    "<br></br>Input: s = \"42\"\n",
    "<br></br>Output: 42\n",
    "<br></br>Explanation: The underlined characters are what is read in, the caret is the current reader position.\n",
    "<br></br>Step 1: \"42\" (no characters read because there is no leading whitespace)\n",
    "<br></br>Step 2: \"42\" (no characters read because there is neither a '-' nor '+')\n",
    "<br></br>Step 3: \"42\" (\"42\" is read in)\n",
    "<br></br>The parsed integer is 42.\n",
    "<br></br>Since 42 is in the range [-231, 231 - 1], the final result is 42.\n",
    "<br></br>\n",
    "<br></br>Example 2:\n",
    "<br></br>Input: s = \"   -42\"\n",
    "<br></br>Output: -42\n",
    "<br></br>Explanation:\n",
    "<br></br>Step 1: \"   -42\" (leading whitespace is read and ignored)\n",
    "<br></br>Step 2: \"   -42\" ('-' is read, so the result should be negative)\n",
    "<br></br>Step 3: \"   -42\" (\"42\" is read in)\n",
    "<br></br>The parsed integer is -42.\n",
    "<br></br>Since -42 is in the range [-231, 231 - 1], the final result is -42.\n",
    "<br></br>\n",
    "<br></br>Example 3:\n",
    "<br></br>Input: s = \"4193 with words\"\n",
    "<br></br>Output: 4193\n",
    "<br></br>Explanation:\n",
    "<br></br>Step 1: \"4193 with words\" (no characters read because there is no leading whitespace)\n",
    "<br></br>Step 2: \"4193 with words\" (no characters read because there is neither a '-' nor '+')\n",
    "<br></br>Step 3: \"4193 with words\" (\"4193\" is read in; reading stops because the next character is a non-digit)\n",
    "<br></br>The parsed integer is 4193.\n",
    "<br></br>Since 4193 is in the range [-231, 231 - 1], the final result is 4193."
   ]
  },
  {
   "cell_type": "code",
   "execution_count": 13,
   "metadata": {},
   "outputs": [
    {
     "name": "stdout",
     "output_type": "stream",
     "text": [
      "4193withwords\n"
     ]
    },
    {
     "data": {
      "text/plain": [
       "4193"
      ]
     },
     "execution_count": 13,
     "metadata": {},
     "output_type": "execute_result"
    }
   ],
   "source": [
    "s = \"4193 with words\"\n",
    "def myAtoi(s):\n",
    "    s = s.replace(\" \",\"\")\n",
    "    print(s)\n",
    "    digit = \"\"\n",
    "    for i in s:\n",
    "        if i in [\"-\" , \"+\"] or i in [\"0\",\"1\",\"2\",\"3\",\"4\",\"5\",\"6\",\"7\",\"8\",\"9\"]:\n",
    "            digit = digit + i\n",
    "        else:\n",
    "            digit += \"\"\n",
    "    try:\n",
    "        dig = int(digit)\n",
    "        if dig in range(-2 ** 31, (2**31) - 1):\n",
    "            return int(digit)\n",
    "    except:\n",
    "        return 0\n",
    "myAtoi(s)"
   ]
  },
  {
   "cell_type": "markdown",
   "metadata": {},
   "source": [
    "#### __Divide Two Integers__"
   ]
  },
  {
   "attachments": {},
   "cell_type": "markdown",
   "metadata": {},
   "source": [
    "Given two integers dividend and divisor, divide two integers without using multiplication, division, and mod operator.\n",
    "<br></br>The integer division should truncate toward zero, which means losing its fractional part. For example, 8.345 would be truncated to 8, and -2.7335 would be truncated to -2.\n",
    "<br></br>Return the quotient after dividing dividend by divisor.\n",
    "<br></br>Note: Assume we are dealing with an environment that could only store integers within the 32-bit signed integer range: [−231, 231 − 1]. For this problem, if the quotient is strictly greater than <br></br>231 - 1, then return 231 - 1, and if the quotient is strictly less than -231, then return -231.\n",
    "<br></br>\n",
    "<br></br>Example 1:\n",
    "<br></br>Input: dividend = 10, divisor = 3\n",
    "<br></br>Output: 3\n",
    "<br></br>Explanation: 10/3 = 3.33333.. which is truncated to 3.\n",
    "<br></br>\n",
    "<br></br>Example 2:\n",
    "<br></br>Input: dividend = 7, divisor = -3\n",
    "<br></br>Output: -2\n",
    "<br></br>Explanation: 7/-3 = -2.33333.. which is truncated to -2."
   ]
  },
  {
   "cell_type": "code",
   "execution_count": null,
   "metadata": {
    "scrolled": true
   },
   "outputs": [
    {
     "data": {
      "text/plain": [
       "5"
      ]
     },
     "execution_count": 21,
     "metadata": {},
     "output_type": "execute_result"
    }
   ],
   "source": [
    "dividend = 15\n",
    "divisor = 3\n",
    "def divide(dividend, divisor):\n",
    "    i = 1\n",
    "    while i != 0:\n",
    "        if divisor * i > dividend:\n",
    "            return i-1\n",
    "        else:\n",
    "            i+=1\n",
    "divide(dividend,divisor)"
   ]
  },
  {
   "cell_type": "markdown",
   "metadata": {},
   "source": [
    "#### __Max Difference You Can Get From Changing an Integer__"
   ]
  },
  {
   "cell_type": "markdown",
   "metadata": {},
   "source": [
    "You are given an integer num. You will apply the following steps exactly two times:\n",
    "<br></br>\n",
    "<br></br>Pick a digit x (0 <= x <= 9).\n",
    "<br></br>Pick another digit y (0 <= y <= 9). The digit y can be equal to x.\n",
    "<br></br>Replace all the occurrences of x in the decimal representation of num by y.\n",
    "<br></br>The new integer cannot have any leading zeros, also the new integer cannot be 0.\n",
    "<br></br>Let a and b be the results of applying the operations to num the first and second times, respectively.\n",
    "<br></br>\n",
    "<br></br>Return the max difference between a and b.\n",
    "<br></br>\n",
    "<br></br>Example 1:\n",
    "<br></br>Input: num = 555\n",
    "<br></br>Output: 888\n",
    "<br></br>Explanation: The first time pick x = 5 and y = 9 and store the new integer in a.\n",
    "<br></br>The second time pick x = 5 and y = 1 and store the new integer in b.\n",
    "<br></br>We have now a = 999 and b = 111 and max difference = 888\n",
    "<br></br>\n",
    "<br></br>Example 2:\n",
    "<br></br>Input: num = 9\n",
    "<br></br>Output: 8\n",
    "<br></br>Explanation: The first time pick x = 9 and y = 9 and store the new integer in a.\n",
    "<br></br>The second time pick x = 9 and y = 1 and store the new integer in b.\n",
    "<br></br>We have now a = 9 and b = 1 and max difference = 8"
   ]
  },
  {
   "cell_type": "code",
   "execution_count": null,
   "metadata": {},
   "outputs": [
    {
     "name": "stdout",
     "output_type": "stream",
     "text": [
      "RETURNED 9930\n",
      "9930\n",
      "ELSE\n",
      "insidezero\n",
      "RETURNED 30\n",
      "0030\n",
      "Max : 9930, Min : 30\n"
     ]
    },
    {
     "data": {
      "text/plain": [
       "9900"
      ]
     },
     "execution_count": 20,
     "metadata": {},
     "output_type": "execute_result"
    }
   ],
   "source": [
    "10000010\n",
    "inputs = [555,9,123456,1130]\n",
    "def maxDiff(num):\n",
    "    if not (1 < num < 10**8):\n",
    "        return None\n",
    "    \n",
    "    num = str(num)\n",
    "    \n",
    "    if len(num) == 1:\n",
    "        return 8\n",
    "\n",
    "    def changeDigits(number, newValue, zero = None, startPoint = 0):\n",
    "        a = None\n",
    "        if (number[startPoint] != newValue) :\n",
    "            print(\"RETURNED\",int(number.replace(number[startPoint], newValue)))\n",
    "            print(number.replace(number[startPoint], newValue))\n",
    "            return int(number.replace(number[startPoint], newValue))\n",
    "        else:\n",
    "            print(\"ELSE\")\n",
    "            if zero != None:\n",
    "                print(\"insidezero\")\n",
    "                a = changeDigits(number = number, newValue = \"0\", startPoint = startPoint+1)\n",
    "            else:\n",
    "                print(\"insidezeroelse\")    \n",
    "                a = changeDigits(number = number, newValue = \"9\", startPoint = startPoint+1)\n",
    "        return a  \n",
    "\n",
    "    maxNum = changeDigits(number = num, newValue = \"9\")\n",
    "    minNum = changeDigits(number = num, zero = True, newValue = \"1\" )    \n",
    "    print(f\"Max : {maxNum}, Min : {minNum}\")\n",
    "    return maxNum - minNum\n",
    "\n",
    "maxDiff(inputs[3])"
   ]
  },
  {
   "cell_type": "markdown",
   "metadata": {},
   "source": [
    "#### __Number of Common Factors__"
   ]
  },
  {
   "attachments": {},
   "cell_type": "markdown",
   "metadata": {},
   "source": [
    "Given two positive integers a and b, return the number of common factors of a and b.\n",
    "<br></br>An integer x is a common factor of a and b if x divides both a and b.\n",
    "<br></br>\n",
    "<br></br>Example 1:\n",
    "<br></br>Input: a = 12, b = 6\n",
    "<br></br>Output: 4\n",
    "<br></br>Explanation: The common factors of 12 and 6 are 1, 2, 3, 6.\n",
    "<br></br>\n",
    "<br></br>Example 2:\n",
    "<br></br>Input: a = 25, b = 30\n",
    "<br></br>Output: 2\n",
    "<br></br>Explanation: The common factors of 25 and 30 are 1, 5."
   ]
  },
  {
   "cell_type": "code",
   "execution_count": null,
   "metadata": {},
   "outputs": [
    {
     "name": "stdout",
     "output_type": "stream",
     "text": [
      "295.0\n",
      "177.0\n",
      "59.0\n",
      "15.0\n",
      "5.0\n",
      "3.0\n",
      "1.0\n"
     ]
    },
    {
     "data": {
      "text/plain": [
       "8"
      ]
     },
     "execution_count": 10,
     "metadata": {},
     "output_type": "execute_result"
    }
   ],
   "source": [
    "\n",
    "def commonFactors(a,b):\n",
    "    counter = 0\n",
    "    for i in range(2,max([a,b])+1):\n",
    "        if a%i == 0 and b%i == 0 :\n",
    "            counter+=1\n",
    "    return counter+1\n",
    "\n",
    "commonFactors(885,885)\n"
   ]
  },
  {
   "cell_type": "markdown",
   "metadata": {},
   "source": [
    "#### __Check if All A's Appears Before All B's__"
   ]
  },
  {
   "cell_type": "markdown",
   "metadata": {},
   "source": [
    "Given a string s consisting of only the characters 'a' and 'b', return true if every 'a' appears before every 'b' in the string. Otherwise, return false.\n",
    "\n",
    "<br></br>Example 1:\n",
    "<br></br>Input: s = \"aaabbb\"\n",
    "<br></br>Output: true\n",
    "<br></br>Explanation:\n",
    "<br></br>The 'a's are at indices 0, 1, and 2, while the 'b's are at indices 3, 4, and 5.\n",
    "<br></br>Hence, every 'a' appears before every 'b' and we return true.\n",
    "<br></br>\n",
    "<br></br>Example 2:\n",
    "<br></br>Input: s = \"abab\"\n",
    "<br></br>Output: false\n",
    "<br></br>Explanation:\n",
    "<br></br>There is an 'a' at index 2 and a 'b' at index 1.\n",
    "<br></br>Hence, not every 'a' appears before every 'b' and we return false.\n",
    "<br></br>\n",
    "<br></br>Example 3:\n",
    "<br></br>Input: s = \"bbb\"\n",
    "<br></br>Output: true\n",
    "<br></br>Explanation:\n",
    "<br></br>There are no 'a's, hence, every 'a' appears before every 'b' and we return true."
   ]
  },
  {
   "cell_type": "code",
   "execution_count": 4,
   "metadata": {},
   "outputs": [
    {
     "name": "stdout",
     "output_type": "stream",
     "text": [
      "True\n",
      "False\n",
      "True\n",
      "False\n",
      "False\n"
     ]
    }
   ],
   "source": [
    "inputs = [\"aaabbb\", \"abab\", \"bbb\",\"aabba\",\"bbaaa\"] \n",
    "def checkString(s):\n",
    "    if 'ba' in s:\n",
    "        return False\n",
    "    return True\n",
    "    \n",
    "for i in inputs:\n",
    "    print(checkString(i))"
   ]
  },
  {
   "cell_type": "markdown",
   "metadata": {},
   "source": [
    "#### __Apply Discount to Prices__"
   ]
  },
  {
   "attachments": {},
   "cell_type": "markdown",
   "metadata": {},
   "source": [
    "A sentence is a string of single-space separated words where each word can contain digits, lowercase letters, and the dollar sign '$'. A word represents a price if it is a sequence of digits preceded by a dollar sign.\n",
    "<br></br>\n",
    "<br></br>For example, \"$100\", \"$23\", and \"$6\" represent prices while \"100\", \"$\", and \"$1e5\" do not.\n",
    "<br></br>You are given a string sentence representing a sentence and an integer discount. For each word representing a price, apply a discount of discount% on the price and update the word in the sentence. <br></br>All updated prices should be represented with exactly two decimal places.\n",
    "<br></br>\n",
    "<br></br>Return a string representing the modified sentence.\n",
    "<br></br>\n",
    "<br></br>Note that all prices will contain at most 10 digits.\n",
    "<br></br>\n",
    "<br></br>Example 1:\n",
    "<br></br>Input: sentence = \"there are $1 $2 and 5$ candies in the shop\", discount = 50\n",
    "<br></br>Output: \"there are $0.50 $1.00 and 5$ candies in the shop\"\n",
    "<br></br>Explanation: \n",
    "<br></br>The words which represent prices are \"$1\" and \"$2\". \n",
    "<br></br>- A 50% discount on \"$1\" yields \"$0.50\", so \"$1\" is replaced by \"$0.50\".\n",
    "<br></br>- A 50% discount on \"$2\" yields \"$1\". Since we need to have exactly 2 decimal places after a price, we replace \"$2\" with \"$1.00\".\n",
    "<br></br>\n",
    "<br></br>Example 2:\n",
    "<br></br>Input: sentence = \"1 2 $3 4 $5 $6 7 8$ $9 $10$\", discount = 100\n",
    "<br></br>Output: \"1 2 $0.00 4 $0.00 $0.00 7 8$ $0.00 $10$\"\n",
    "<br></br>Explanation: \n",
    "<br></br>Applying a 100% discount on any price will result in 0.\n",
    "<br></br>The words representing prices are \"$3\", \"$5\", \"$6\", and \"$9\".\n",
    "<br></br>Each of them is replaced by \"$0.00\"."
   ]
  },
  {
   "cell_type": "code",
   "execution_count": null,
   "metadata": {},
   "outputs": [
    {
     "data": {
      "text/plain": [
       "'1 2 $0.00 4 $0.00 $0.00 7 8$ $0.00 $10$'"
      ]
     },
     "execution_count": 1,
     "metadata": {},
     "output_type": "execute_result"
    }
   ],
   "source": [
    "sentence = \"1 2 $3 4 $5 $6 7 8$ $9 $10$\"\n",
    "discount = 100\n",
    "def discountPrices(sentence, discount):\n",
    "    words = sentence.split()\n",
    "    for index,data in enumerate(words):\n",
    "        if data.startswith('$') and data[1:].isnumeric():\n",
    "            orgPrice = float(data[1:])\n",
    "            discPrice = orgPrice - (orgPrice* discount/100)\n",
    "            words[index] = '$' + f'{discPrice:.2f}'\n",
    "    return \" \".join(words)\n",
    "discountPrices(sentence,discount)\n"
   ]
  },
  {
   "cell_type": "markdown",
   "metadata": {},
   "source": [
    "#### __Maximum Number of Coins You Can Get__"
   ]
  },
  {
   "attachments": {},
   "cell_type": "markdown",
   "metadata": {},
   "source": [
    "There are 3n piles of coins of varying size, you and your friends will take piles of coins as follows:\n",
    "\n",
    "<br></br>In each step, you will choose any 3 piles of coins (not necessarily consecutive).\n",
    "<br></br>Of your choice, Alice will pick the pile with the maximum number of coins.\n",
    "<br></br>You will pick the next pile with the maximum number of coins.\n",
    "<br></br>Your friend Bob will pick the last pile.\n",
    "<br></br>Repeat until there are no more piles of coins.\n",
    "<br></br>Given an array of integers piles where piles[i] is the number of coins in the ith pile.\n",
    "<br></br>\n",
    "<br></br>Return the maximum number of coins that you can have.\n",
    "<br></br>\n",
    "<br></br>Example 1:\n",
    "<br></br>Input: piles = [2,4,1,2,7,8]\n",
    "<br></br>Output: 9\n",
    "<br></br>Explanation: Choose the triplet (2, 7, 8), Alice Pick the pile with 8 coins, you the pile with 7 coins and Bob the last one.\n",
    "<br></br>Choose the triplet (1, 2, 4), Alice Pick the pile with 4 coins, you the pile with 2 coins and Bob the last one.\n",
    "<br></br>The maximum number of coins which you can have are: 7 + 2 = 9.\n",
    "<br></br>On the other hand if we choose this arrangement (1, 2, 8), (2, 4, 7) you only get 2 + 4 = 6 coins which is not optimal.\n",
    "<br></br>\n",
    "<br></br>Example 2:\n",
    "<br></br>Input: piles = [2,4,5]\n",
    "<br></br>Output: 4\n",
    "<br></br>\n",
    "<br></br>Example 3:\n",
    "<br></br>Input: piles = [9,8,7,6,5,1,2,3,4]\n",
    "<br></br>Output: 18"
   ]
  },
  {
   "cell_type": "code",
   "execution_count": null,
   "metadata": {},
   "outputs": [
    {
     "name": "stdout",
     "output_type": "stream",
     "text": [
      "9\n",
      "4\n",
      "18\n"
     ]
    }
   ],
   "source": [
    "input = [[2,4,1,2,7,8], [2,4,5], [9,8,7,6,5,1,2,3,4]]\n",
    "def maxCoins(piles):\n",
    "    batches = len(piles) // 3 \n",
    "    piles = sorted(piles)\n",
    "    if batches == 1 :\n",
    "        return piles[1]\n",
    "    else:\n",
    "        return sum(piles[batches::2])\n",
    "\n",
    "\n",
    "\n",
    "for i in input:\n",
    "    print(maxCoins(i))"
   ]
  },
  {
   "cell_type": "markdown",
   "metadata": {},
   "source": [
    "#### __Power of Three__"
   ]
  },
  {
   "attachments": {},
   "cell_type": "markdown",
   "metadata": {},
   "source": [
    "<br></br>Given an integer n, return true if it is a power of three. Otherwise, return false.\n",
    "<br></br>An integer n is a power of three, if there exists an integer x such that n == 3x.\n",
    "<br></br>\n",
    "<br></br>Example 1:\n",
    "<br></br>Input: n = 27\n",
    "<br></br>Output: true\n",
    "<br></br>Explanation: 27 = 33\n",
    "<br></br>\n",
    "<br></br>Example 2:\n",
    "<br></br>Input: n = 0\n",
    "<br></br>Output: false\n",
    "<br></br>Explanation: There is no x where 3x = 0.\n",
    "<br></br>\n",
    "<br></br>Example 3:\n",
    "<br></br>Input: n = -1\n",
    "<br></br>Output: false\n",
    "<br></br>Explanation: There is no x where 3x = (-1)."
   ]
  },
  {
   "cell_type": "code",
   "execution_count": 5,
   "metadata": {},
   "outputs": [
    {
     "name": "stdout",
     "output_type": "stream",
     "text": [
      "True\n",
      "False\n",
      "False\n"
     ]
    }
   ],
   "source": [
    "inputs = [27, 0 , -1]\n",
    "def isPowerOfThree(n):\n",
    "    vic = 1\n",
    "    if n == 1 :\n",
    "        return True\n",
    "    while vic < n :\n",
    "        vic = vic * 3 \n",
    "        if vic == n :\n",
    "            return True\n",
    "    return False\n",
    "\n",
    "for i in inputs:\n",
    "    print(isPowerOfThree(i))\n"
   ]
  },
  {
   "cell_type": "markdown",
   "metadata": {},
   "source": [
    "<br></br>Our hero Teemo is attacking an enemy Ashe with poison attacks! When Teemo attacks Ashe, Ashe gets poisoned for a exactly duration seconds. More formally, an attack at second t will mean Ashe is poisoned during the inclusive time interval [t, t + duration - 1]. If Teemo attacks again before the poison effect ends, the timer for it is reset, and the poison effect will end duration seconds after the new attack.\n",
    "<br></br>\n",
    "<br></br>You are given a non-decreasing integer array timeSeries, where timeSeries[i] denotes that Teemo attacks Ashe at second timeSeries[i], and an integer duration.\n",
    "<br></br>\n",
    "<br></br>Return the total number of seconds that Ashe is poisoned.\n",
    "<br></br>\n",
    "<br></br>Example 1:\n",
    "<br></br>Input: timeSeries = [1,4], duration = 2\n",
    "<br></br>Output: 4\n",
    "<br></br>Explanation: Teemo's attacks on Ashe go as follows:\n",
    "<br></br>- At second 1, Teemo attacks, and Ashe is poisoned for seconds 1 and 2.\n",
    "<br></br>- At second 4, Teemo attacks, and Ashe is poisoned for seconds 4 and 5.\n",
    "<br></br>Ashe is poisoned for seconds 1, 2, 4, and 5, which is 4 seconds in total.\n",
    "<br></br>\n",
    "<br></br>Example 2:\n",
    "<br></br>Input: timeSeries = [1,2], duration = 2\n",
    "<br></br>Output: 3\n",
    "<br></br>Explanation: Teemo's attacks on Ashe go as follows:\n",
    "<br></br>- At second 1, Teemo attacks, and Ashe is poisoned for seconds 1 and 2.\n",
    "<br></br>- At second 2 however, Teemo attacks again and resets the poison timer. Ashe is poisoned for seconds 2 and 3.\n",
    "<br></br>Ashe is poisoned for seconds 1, 2, and 3, which is 3 seconds in total."
   ]
  },
  {
   "cell_type": "code",
   "execution_count": 9,
   "metadata": {},
   "outputs": [
    {
     "data": {
      "text/plain": [
       "4"
      ]
     },
     "execution_count": 9,
     "metadata": {},
     "output_type": "execute_result"
    }
   ],
   "source": [
    "def findPoisonedDuration(timeSeries, duration):\n",
    "    list_final = []\n",
    "    for i in timeSeries:\n",
    "        list_final.extend(range(i,i+duration))\n",
    "    return len(set(list_final))\n",
    "findPoisonedDuration([1,4], 2)"
   ]
  },
  {
   "cell_type": "code",
   "execution_count": null,
   "metadata": {},
   "outputs": [],
   "source": []
  },
  {
   "cell_type": "code",
   "execution_count": null,
   "metadata": {},
   "outputs": [],
   "source": []
  }
 ],
 "metadata": {
  "kernelspec": {
   "display_name": "Python 3.9.7 ('base')",
   "language": "python",
   "name": "python3"
  },
  "language_info": {
   "codemirror_mode": {
    "name": "ipython",
    "version": 3
   },
   "file_extension": ".py",
   "mimetype": "text/x-python",
   "name": "python",
   "nbconvert_exporter": "python",
   "pygments_lexer": "ipython3",
   "version": "3.9.7"
  },
  "vscode": {
   "interpreter": {
    "hash": "e36315da3f8d88bf7dd3ba24d6d9da372df0fc3342d6e69de3bddff59768a8cb"
   }
  }
 },
 "nbformat": 4,
 "nbformat_minor": 4
}
