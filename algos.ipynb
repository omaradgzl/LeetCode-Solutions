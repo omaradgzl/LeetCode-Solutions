{
 "cells": [
  {
   "cell_type": "markdown",
   "metadata": {},
   "source": [
    "# __Notebook for leetcode problems.__"
   ]
  },
  {
   "cell_type": "markdown",
   "metadata": {},
   "source": [
    "#### __SudokuValidation__\n"
   ]
  },
  {
   "cell_type": "raw",
   "metadata": {},
   "source": [
    "Determine if a 9 x 9 Sudoku board is valid. Only the filled cells need to be validated according to the following rules:\n",
    "\n",
    "Each row must contain the digits 1-9 without repetition.\n",
    "Each column must contain the digits 1-9 without repetition.\n",
    "Each of the nine 3 x 3 sub-boxes of the grid must contain the digits 1-9 without repetition.\n",
    "Note:\n",
    "\n",
    "A Sudoku board (partially filled) could be valid but is not necessarily solvable.\n",
    "Only the filled cells need to be validated according to the mentioned rules.\n",
    "Input: board = \n",
    "[[\"5\",\"3\",\".\",\"7\",\".\",\".\",\".\",\".\",\".\"]\n",
    ",[\"6\",\".\",\".\",\"1\",\"9\",\"5\",\".\",\".\",\".\"]\n",
    ",[\".\",\"9\",\"8\",\".\",\".\",\".\",\".\",\"6\",\".\"]\n",
    ",[\"8\",\".\",\".\",\".\",\"6\",\".\",\".\",\".\",\"3\"]\n",
    ",[\"4\",\".\",\".\",\"8\",\".\",\"3\",\".\",\".\",\"1\"]\n",
    ",[\"7\",\".\",\".\",\".\",\"2\",\".\",\".\",\".\",\"6\"]\n",
    ",[\".,\"6\",\".\",\".\",\".\",\".\",\"2\",\"8\",\".\"]\n",
    ",[\".\",\".\",\".\",\"4\",\"1\",\"9\",\".\",\".\",\"5\"]\n",
    ",[\".\",\".\",\".\",\".\",\"8\",\".\",\".\",\"7\",\"9\"]]\n",
    "Output: true\n"
   ]
  },
  {
   "cell_type": "code",
   "execution_count": 24,
   "metadata": {},
   "outputs": [
    {
     "data": {
      "text/plain": [
       "True"
      ]
     },
     "execution_count": 24,
     "metadata": {},
     "output_type": "execute_result"
    }
   ],
   "source": [
    "sudoku = [\n",
    " [\"8\",\"3\",\".\",\".\",\"7\",\".\",\".\",\".\",\".\"]\n",
    ",[\"6\",\".\",\".\",\"1\",\"9\",\"5\",\".\",\".\",\".\"]\n",
    ",[\".\",\"9\",\"5\",\".\",\".\",\".\",\".\",\"6\",\".\"]\n",
    ",[\".\",\".\",\".\",\".\",\"6\",\".\",\".\",\".\",\"3\"]\n",
    ",[\"4\",\".\",\".\",\"8\",\".\",\"3\",\".\",\".\",\"1\"]\n",
    ",[\"7\",\".\",\".\",\".\",\"2\",\".\",\".\",\".\",\"6\"]\n",
    ",[\".\",\"6\",\".\",\".\",\".\",\".\",\"2\",\"8\",\".\"]\n",
    ",[\".\",\".\",\".\",\"4\",\"1\",\"9\",\".\",\".\",\"5\"]\n",
    ",[\".\",\".\",\".\",\".\",\"8\",\".\",\".\",\"7\",\"9\"]]\n",
    "\n",
    "def isValidSudoku(sudoku):\n",
    "    a = list(map(list, zip(*sudoku)))\n",
    "    sudokus = [sudoku,a] \n",
    "    for i in sudokus:\n",
    "        for index,data in enumerate(i):\n",
    "            data = list(filter(lambda a: a != \".\", data))\n",
    "            if len(data) != len(set(data)):\n",
    "                return False\n",
    "    for i in [0,3,6]:\n",
    "        for j in [0,3,6]:\n",
    "            sudokuTriplet = [item[i:i+3] for item in sudoku[j:j+3]]\n",
    "            subTriplet = [j for i in sudokuTriplet for j in i]\n",
    "            subtTriplet = list(filter(lambda a: a != \".\", subTriplet))\n",
    "            if len(subtTriplet) != len(set(subtTriplet)):\n",
    "                return False\n",
    "    return True\n",
    "        \n",
    "isValidSudoku(sudoku)\n"
   ]
  },
  {
   "cell_type": "markdown",
   "metadata": {},
   "source": [
    "#### __Median of Two Sorted Arrays__\n"
   ]
  },
  {
   "cell_type": "raw",
   "metadata": {},
   "source": [
    "Given two sorted arrays nums1 and nums2 of size m and n respectively, return the median of the two sorted arrays.\n",
    "\n",
    "The overall run time complexity should be O(log (m+n)).\n",
    "\n",
    " \n",
    "\n",
    "Example 1:\n",
    "\n",
    "Input: nums1 = [1,3], nums2 = [2]\n",
    "Output: 2.00000\n",
    "Explanation: merged array = [1,2,3] and median is 2."
   ]
  },
  {
   "cell_type": "code",
   "execution_count": null,
   "metadata": {
    "scrolled": true
   },
   "outputs": [],
   "source": [
    "nums1 = [1,3,5,7,8] \n",
    "nums2 = [2,4] \n",
    "def findMedianSortedArrays(nums1,nums2):\n",
    "    nums = sorted(nums1+nums2)\n",
    "    mid = len(nums) // 2\n",
    "    return (nums[mid] + nums[~mid]) / 2\n",
    "    \n",
    "    \n",
    "    \n",
    "    \n",
    "findMedianSortedArrays(nums1,nums2)"
   ]
  },
  {
   "cell_type": "markdown",
   "metadata": {},
   "source": [
    "#### __Strong Password Checker__\n"
   ]
  },
  {
   "cell_type": "raw",
   "metadata": {},
   "source": [
    "A password is considered strong if the below conditions are all met:\n",
    "\n",
    "It has at least 6 characters and at most 20 characters.\n",
    "It contains at least one lowercase letter, at least one uppercase letter, and at least one digit.\n",
    "It does not contain three repeating characters in a row (i.e., \"...aaa...\" is weak, but \"...aa...a...\" is strong, assuming other conditions are met).\n",
    "Given a string password, return the minimum number of steps required to make password strong. if password is already strong, return 0.\n",
    "\n",
    "In one step, you can:\n",
    "\n",
    "Insert one character to password,\n",
    "Delete one character from password, or\n",
    "Replace one character of password with another character.\n",
    " \n",
    "\n",
    "Example 1:\n",
    "Input: password = \"a\"\n",
    "Output: 5\n",
    "\n",
    "Example 2:\n",
    "Input: password = \"aA1\"\n",
    "Output: 3\n",
    "\n",
    "Example 3:\n",
    "Input: password = \"1337C0d3\"\n",
    "Output: 0"
   ]
  },
  {
   "cell_type": "code",
   "execution_count": null,
   "metadata": {},
   "outputs": [],
   "source": [
    "passwords = [\"FFFFFFFFFFFFFFF11111111111111111111AAA\" , \"ssSsss \", \"1337C0d3\", \"aaa111\",\"aaa123\",\"1111111111\",\"ABABABABABABABABABAB1\",\"bbaaaaaaaaaaaaaaacccccc\",\"aaaaAAAAAA000000123456\"]\n",
    "\n",
    "def strongPasswordChecker(password: str) -> int:\n",
    "    lenOfPass = len(password)\n",
    "    needsUpper = password.islower()\n",
    "    needsLower = password.isupper()\n",
    "    needsDigit = not any(chr.isdigit() for chr in password)\n",
    "    isRepeatin = 0\n",
    "    i = 1\n",
    "    j = 0\n",
    "    while(i < len(password)-1):\n",
    "        if password[i-1] == password[i] == password[i+1]:\n",
    "            print(password[i-1], password[i],password[i+1])\n",
    "            i = i+2\n",
    "            print(i)\n",
    "            j = i\n",
    "        else:\n",
    "            i+=1\n",
    "    isRepeatin = int(j/3)\n",
    "    steps = isAllLower + isAllUpper + isAnyDigit\n",
    "    print(isAllLower,isAllUpper,isAnyDigit,isRepeatin,groups)\n",
    "\n",
    "\n",
    "\n",
    "\n",
    "    if lenOfPass < 6:\n",
    "        print(\"a\")\n",
    "        return 6-lenOfPass\n",
    "    elif lenOfPass > 5 and lenOfPass < 21:\n",
    "        print(\"a1\")\n",
    "        return max([steps,isRepeatin])\n",
    "    elif lenOfPass > 20:\n",
    "        print(\"a2\")\n",
    "        toDelete = lenOfPass - 20\n",
    "        if toDelete > isRepeatin:\n",
    "            return toDelete + (toDelete-isRepeatin)\n",
    "        elif toDelete < isRepeatin:\n",
    "            return isRepeatin + (steps-1)\n",
    "        return toDelete + max([steps,isRepeatin])\n",
    "\n",
    "    \n",
    "    \n",
    "    \n",
    "    \n",
    "    \n",
    "    \n",
    "    \n",
    "#     if lenOfPass < 6:\n",
    "#         return 6-lenOfPass\n",
    "#     elif lenOfPass > 20:\n",
    "#         if steps == 0:\n",
    "#             return max([lenOfPass-20,isRepeatin])\n",
    "#         else:\n",
    "#             print()\n",
    "#             return max([lenOfPass-20,max([steps+lenOfPass-20,isRepeatin])]) \n",
    "#     return max([steps,isRepeatin])\n",
    "    \n",
    "     \n",
    "        \n",
    "\n",
    "    \n",
    "\n",
    "strongPasswordChecker(passwords[1])"
   ]
  },
  {
   "cell_type": "markdown",
   "metadata": {},
   "source": [
    "#### __Reverse Integer__\n"
   ]
  },
  {
   "cell_type": "raw",
   "metadata": {},
   "source": [
    "Given a signed 32-bit integer x, return x with its digits reversed. If reversing x causes the value to go outside the signed 32-bit integer range [-231, 231 - 1], then return 0.\n",
    "\n",
    "Assume the environment does not allow you to store 64-bit integers (signed or unsigned).\n",
    "\n",
    " \n",
    "\n",
    "Example 1:\n",
    "\n",
    "Input: x = 123\n",
    "Output: 321\n",
    "Example 2:\n",
    "\n",
    "Input: x = -123\n",
    "Output: -321\n",
    "Example 3:\n",
    "\n",
    "Input: x = 120\n",
    "Output: 21"
   ]
  },
  {
   "cell_type": "code",
   "execution_count": null,
   "metadata": {},
   "outputs": [],
   "source": [
    "target = -2147483648 \n",
    "         \n",
    "def reverse(x):\n",
    "    \n",
    "    a = str(x)[::-1]\n",
    "    if x < 0:\n",
    "        a = int(a[-1] + a[0:len(a)-1])\n",
    "    else:\n",
    "        a = int(a)\n",
    "    if not(abs(a)<1<<31):\n",
    "        return 0\n",
    "    return a\n",
    "\n",
    "reverse(target)"
   ]
  },
  {
   "cell_type": "markdown",
   "metadata": {},
   "source": [
    "#### __Add Two Numbers__"
   ]
  },
  {
   "cell_type": "raw",
   "metadata": {},
   "source": [
    "You are given two non-empty linked lists representing two non-negative integers. The digits are stored in reverse order, and each of their nodes contains a single digit. Add the two numbers and return the sum as a linked list.\n",
    "\n",
    "You may assume the two numbers do not contain any leading zero, except the number 0 itself.\n",
    "\n",
    "Example 1:\n",
    "Input: l1 = [2,4,3], l2 = [5,6,4]\n",
    "Output: [7,0,8]\n",
    "\n",
    "Example 2:\n",
    "Input: l1 = [0], l2 = [0]\n",
    "Output: [0]\n",
    "\n",
    "Example 3:\n",
    "Input: l1 = [9,9,9,9,9,9,9], l2 = [9,9,9,9]\n",
    "Output: [8,9,9,9,0,0,0,1]"
   ]
  },
  {
   "cell_type": "code",
   "execution_count": 40,
   "metadata": {},
   "outputs": [
    {
     "data": {
      "text/plain": [
       "[8, 0, 7]"
      ]
     },
     "execution_count": 40,
     "metadata": {},
     "output_type": "execute_result"
    }
   ],
   "source": [
    "# Definition for singly-linked list.\n",
    "class ListNode:\n",
    "    def __init__(self, val=0, next=None):\n",
    "        self.val = val\n",
    "        self.next = next\n",
    "class Solution:\n",
    "    def addTwoNumbers(l1, l2):\n",
    "        prettyL1 = []\n",
    "        prettyL2 = []\n",
    "        while l1 != None:\n",
    "            prettyL1.append(l1.val)\n",
    "            if l1.next == None:\n",
    "                l1 = None\n",
    "            else:\n",
    "                l1 = l1.next\n",
    "        while l2 != None:\n",
    "            prettyL2.append(l2.val)\n",
    "            if l2.next == None:\n",
    "                l2 = None\n",
    "            else:\n",
    "                l2 = l2.next\n",
    "        \n",
    "        prettyL1 = prettyL1[::-1]\n",
    "        prettyL2 = prettyL2[::-1]\n",
    "        dif = len(prettyL1)-len(prettyL2)\n",
    "        if dif>0:\n",
    "            prettyL2.append(0*dif)\n",
    "        if dif<0:\n",
    "            prettyL1.append(0*dif)\n",
    "        finalNums = []\n",
    "        for i in[prettyL1,prettyL2]:\n",
    "            strings = [str(integer) for integer in i]\n",
    "            a_string = \"\".join(strings)\n",
    "            an_integer = int(a_string)\n",
    "            finalNums.append(an_integer)\n",
    "       \n",
    "        return [int(x) for x in str(sum(finalNums))] ##actually \"F\" the returntype ListNode\n",
    "        \n",
    "        \n",
    "    \n",
    "    \n",
    "l33 = ListNode(3,None)\n",
    "l22 = ListNode(4,l33)\n",
    "l11 = ListNode(2,l22)\n",
    "l66 = ListNode(4,None)\n",
    "l55 = ListNode(6,l66)\n",
    "l44 = ListNode(5,l55)\n",
    "\n",
    "Solution.addTwoNumbers(l11,l44)"
   ]
  },
  {
   "cell_type": "markdown",
   "metadata": {},
   "source": [
    "#### __Sqrt(x)__\n"
   ]
  },
  {
   "cell_type": "raw",
   "metadata": {},
   "source": [
    "Given a non-negative integer x, compute and return the square root of x.\n",
    "\n",
    "Since the return type is an integer, the decimal digits are truncated, and only the integer part of the result is returned.\n",
    "\n",
    "Note: You are not allowed to use any built-in exponent function or operator, such as pow(x, 0.5) or x ** 0.5.\n",
    "\n",
    "Example 1:\n",
    "Input: x = 4\n",
    "Output: 2\n",
    "\n",
    "Example 2:\n",
    "Input: x = 8\n",
    "Output: 2\n",
    "Explanation: The square root of 8 is 2.82842..., and since the decimal part is truncated, 2 is returned."
   ]
  },
  {
   "cell_type": "code",
   "execution_count": null,
   "metadata": {},
   "outputs": [],
   "source": [
    "def mySqrt(x):\n",
    "    i = 0\n",
    "    while i <= x:\n",
    "        vic = i*i\n",
    "        if vic == x:\n",
    "            return i \n",
    "        elif vic > x:\n",
    "            return i-1\n",
    "        i+=1\n",
    "    return 0\n",
    "mySqrt(29)"
   ]
  },
  {
   "cell_type": "markdown",
   "metadata": {},
   "source": [
    "#### __Destination City__\n"
   ]
  },
  {
   "cell_type": "raw",
   "metadata": {},
   "source": [
    "You are given the array paths, where paths[i] = [cityAi, cityBi] means there exists a direct path going from cityAi to cityBi. Return the destination city, that is, the city without any path outgoing to another city.\n",
    "\n",
    "It is guaranteed that the graph of paths forms a line without any loop, therefore, there will be exactly one destination city.\n",
    "\n",
    " \n",
    "\n",
    "Example 1:\n",
    "Input: paths = [[\"London\",\"New York\"],[\"New York\",\"Lima\"],[\"Lima\",\"Sao Paulo\"]]\n",
    "Output: \"Sao Paulo\" \n",
    "Explanation: Starting at \"London\" city you will reach \"Sao Paulo\" city which is the destination city. Your trip consist of: \"London\" -> \"New York\" -> \"Lima\" -> \"Sao Paulo\".\n",
    "\n",
    "Example 2:\n",
    "Input: paths = [[\"B\",\"C\"],[\"D\",\"B\"],[\"C\",\"A\"]]\n",
    "Output: \"A\"\n",
    "Explanation: All possible trips are: \n",
    "\"D\" -> \"B\" -> \"C\" -> \"A\". \n",
    "\"B\" -> \"C\" -> \"A\". \n",
    "\"C\" -> \"A\". \n",
    "\"A\". \n",
    "Clearly the destination city is \"A\".\n",
    "\n",
    "Example 3:\n",
    "Input: paths = [[\"A\",\"Z\"]]\n",
    "Output: \"Z\""
   ]
  },
  {
   "cell_type": "code",
   "execution_count": 22,
   "metadata": {},
   "outputs": [
    {
     "data": {
      "text/plain": [
       "'OAxMijOZgW'"
      ]
     },
     "execution_count": 22,
     "metadata": {},
     "output_type": "execute_result"
    }
   ],
   "source": [
    "paths = [[\"qMTSlfgZlC\",\"ePvzZaqLXj\"],[\"xKhZXfuBeC\",\"TtnllZpKKg\"],[\"ePvzZaqLXj\",\"sxrvXFcqgG\"],[\"sxrvXFcqgG\",\"xKhZXfuBeC\"],[\"TtnllZpKKg\",\"OAxMijOZgW\"]]\n",
    "def destCity(path):\n",
    "    a = len(paths)\n",
    "    i = 0\n",
    "    currentCity = path[0][1]\n",
    "    while i<a:\n",
    "        for index,data in enumerate(path):\n",
    "            if currentCity == data[0]:\n",
    "#                 print(currentCity + \"------>\" + data[1])\n",
    "                currentCity = data[1]\n",
    "        i+=1\n",
    "    return currentCity\n",
    "            \n",
    "destCity(paths)"
   ]
  },
  {
   "cell_type": "code",
   "execution_count": 23,
   "metadata": {},
   "outputs": [
    {
     "data": {
      "text/plain": [
       "'OAxMijOZgW'"
      ]
     },
     "execution_count": 23,
     "metadata": {},
     "output_type": "execute_result"
    }
   ],
   "source": [
    "paths = [[\"qMTSlfgZlC\",\"ePvzZaqLXj\"],[\"xKhZXfuBeC\",\"TtnllZpKKg\"],[\"ePvzZaqLXj\",\"sxrvXFcqgG\"],[\"sxrvXFcqgG\",\"xKhZXfuBeC\"],[\"TtnllZpKKg\",\"OAxMijOZgW\"]]\n",
    "def destCityFaster(path):\n",
    "    firstLocs = \"\"\n",
    "    for i in paths:\n",
    "        firstLocs+= i[0]\n",
    "    for i in paths:\n",
    "        if i[1] not in firstLocs:\n",
    "            return i[1]\n",
    "destCityFaster(paths)"
   ]
  },
  {
   "cell_type": "markdown",
   "metadata": {},
   "source": [
    "#### __Reverse Words in a String__\n"
   ]
  },
  {
   "cell_type": "raw",
   "metadata": {},
   "source": [
    "Given an input string s, reverse the order of the words.\n",
    "\n",
    "A word is defined as a sequence of non-space characters. The words in s will be separated by at least one space.\n",
    "\n",
    "Return a string of the words in reverse order concatenated by a single space.\n",
    "\n",
    "Note that s may contain leading or trailing spaces or multiple spaces between two words. The returned string should only have a single space separating the words. Do not include any extra spaces.\n",
    "\n",
    " \n",
    "\n",
    "Example 1:\n",
    "\n",
    "Input: s = \"the sky is blue\"\n",
    "Output: \"blue is sky the\"\n",
    "Example 2:\n",
    "\n",
    "Input: s = \"  hello world  \"\n",
    "Output: \"world hello\"\n",
    "Explanation: Your reversed string should not contain leading or trailing spaces.\n",
    "Example 3:\n",
    "\n",
    "Input: s = \"a good   example\"\n",
    "Output: \"example good a\"\n",
    "Explanation: You need to reduce multiple spaces between two words to a single space in the reversed string."
   ]
  },
  {
   "cell_type": "code",
   "execution_count": null,
   "metadata": {},
   "outputs": [],
   "source": [
    "sentence = \"the sky is blue\"\n",
    "def reverseWords(sentence):\n",
    "    shred = sentence.split()[::-1]\n",
    "    shred = \" \".join(shred)\n",
    "    return shred\n",
    "    \n",
    "reverseWords(sentence)"
   ]
  },
  {
   "cell_type": "markdown",
   "metadata": {},
   "source": [
    "#### __Multiply Strings__\n"
   ]
  },
  {
   "cell_type": "raw",
   "metadata": {},
   "source": [
    "Given two non-negative integers num1 and num2 represented as strings, return the product of num1 and num2, also represented as a string.\n",
    "\n",
    "Note: You must not use any built-in BigInteger library or convert the inputs to integer directly.\n",
    "\n",
    " \n",
    "\n",
    "Example 1:\n",
    "\n",
    "Input: num1 = \"2\", num2 = \"3\"\n",
    "Output: \"6\"\n",
    "Example 2:\n",
    "\n",
    "Input: num1 = \"123\", num2 = \"456\"\n",
    "Output: \"56088\""
   ]
  },
  {
   "cell_type": "code",
   "execution_count": 10,
   "metadata": {},
   "outputs": [
    {
     "data": {
      "text/plain": [
       "'6'"
      ]
     },
     "execution_count": 10,
     "metadata": {},
     "output_type": "execute_result"
    }
   ],
   "source": [
    "num1 = \"2\"\n",
    "num2 = \"3\"\n",
    "def multiply(num1, num2):\n",
    "        return str(eval(num1 + \"*\" + num2))\n",
    "multiply(num1,num2)"
   ]
  },
  {
   "cell_type": "markdown",
   "metadata": {},
   "source": [
    "#### __Pow(x, n)__\n"
   ]
  },
  {
   "cell_type": "raw",
   "metadata": {},
   "source": [
    "Implement pow(x, n), which calculates x raised to the power n (i.e., xn).\n",
    "\n",
    "Example 1:\n",
    "Input: x = 2.00000, n = 10\n",
    "Output: 1024.00000\n",
    "\n",
    "Example 2:\n",
    "Input: x = 2.10000, n = 3\n",
    "Output: 9.26100\n",
    "\n",
    "Example 3:\n",
    "Input: x = 2.00000, n = -2\n",
    "Output: 0.25000"
   ]
  },
  {
   "cell_type": "code",
   "execution_count": 14,
   "metadata": {},
   "outputs": [
    {
     "data": {
      "text/plain": [
       "16"
      ]
     },
     "execution_count": 14,
     "metadata": {},
     "output_type": "execute_result"
    }
   ],
   "source": [
    "def myPow(x, n):\n",
    "    ans = 1 \n",
    "    for i in range(0,abs(n)):\n",
    "        ans = ans*x\n",
    "    if n <0:\n",
    "        return 1/ans\n",
    "    else:\n",
    "        return ans\n",
    "myPow(4,2)"
   ]
  },
  {
   "cell_type": "markdown",
   "metadata": {},
   "source": [
    "#### __Capitalize the Title__\n"
   ]
  },
  {
   "cell_type": "raw",
   "metadata": {},
   "source": [
    "You are given a string title consisting of one or more words separated by a single space, where each word consists of English letters. Capitalize the string by changing the capitalization of each word such that:\n",
    "\n",
    "If the length of the word is 1 or 2 letters, change all letters to lowercase.\n",
    "Otherwise, change the first letter to uppercase and the remaining letters to lowercase.\n",
    "Return the capitalized title.\n",
    "\n",
    " \n",
    "\n",
    "Example 1:\n",
    "Input: title = \"capiTalIze tHe titLe\"\n",
    "Output: \"Capitalize The Title\"\n",
    "Explanation:\n",
    "Since all the words have a length of at least 3, the first letter of each word is uppercase, and the remaining letters are lowercase.\n",
    "\n",
    "Example 2:\n",
    "Input: title = \"First leTTeR of EACH Word\"\n",
    "Output: \"First Letter of Each Word\"\n",
    "Explanation:\n",
    "The word \"of\" has length 2, so it is all lowercase.\n",
    "The remaining words have a length of at least 3, so the first letter of each remaining word is uppercase, and the remaining letters are lowercase.\n",
    "\n",
    "Example 3:\n",
    "Input: title = \"i lOve leetcode\"\n",
    "Output: \"i Love Leetcode\"\n",
    "Explanation:\n",
    "The word \"i\" has length 1, so it is lowercase.\n",
    "The remaining words have a length of at least 3, so the first letter of each remaining word is uppercase, and the remaining letters are lowercase."
   ]
  },
  {
   "cell_type": "code",
   "execution_count": 24,
   "metadata": {},
   "outputs": [
    {
     "data": {
      "text/plain": [
       "'Capitalize The Title'"
      ]
     },
     "execution_count": 24,
     "metadata": {},
     "output_type": "execute_result"
    }
   ],
   "source": [
    "title = \"capiTalIze tHe titLe\"\n",
    "def capitalizeTitle(title):\n",
    "    a = title.split()\n",
    "    for i in range(len(a)):\n",
    "        a[i] = a[i].lower()\n",
    "        if len(a[i])>2:\n",
    "            a[i] = a[i].capitalize()\n",
    "\n",
    "    return \" \".join(a)\n",
    "capitalizeTitle(title)"
   ]
  },
  {
   "cell_type": "markdown",
   "metadata": {},
   "source": [
    "#### __String Matching in an Array__\n"
   ]
  },
  {
   "cell_type": "raw",
   "metadata": {},
   "source": [
    "Given an array of string words. Return all strings in words which is substring of another word in any order. \n",
    "\n",
    "String words[i] is substring of words[j], if can be obtained removing some characters to left and/or right side of words[j].\n",
    "\n",
    "Example 1:\n",
    "Input: words = [\"mass\",\"as\",\"hero\",\"superhero\"]\n",
    "Output: [\"as\",\"hero\"]\n",
    "Explanation: \"as\" is substring of \"mass\" and \"hero\" is substring of \"superhero\".\n",
    "[\"hero\",\"as\"] is also a valid answer.\n",
    "\n",
    "Example 2:\n",
    "Input: words = [\"leetcode\",\"et\",\"code\"]\n",
    "Output: [\"et\",\"code\"]\n",
    "Explanation: \"et\", \"code\" are substring of \"leetcode\".\n",
    "\n",
    "Example 3:\n",
    "Input: words = [\"blue\",\"green\",\"bu\"]\n",
    "Output: []"
   ]
  },
  {
   "cell_type": "code",
   "execution_count": 58,
   "metadata": {},
   "outputs": [
    {
     "data": {
      "text/plain": [
       "['am', 'od', 'leetcode']"
      ]
     },
     "execution_count": 58,
     "metadata": {},
     "output_type": "execute_result"
    }
   ],
   "source": [
    "words = [\"leetcoder\",\"leetcode\",\"od\",\"hamlet\",\"am\"]\n",
    "\n",
    "def stringMatching(words):\n",
    "    ans = []\n",
    "    for i in words:\n",
    "        for index,data in enumerate(words):\n",
    "            if i in data and i != data:\n",
    "                ans.append(i)\n",
    "    return list(set(ans))\n",
    "    \n",
    "stringMatching(words)\n",
    "    \n",
    "    \n",
    "    "
   ]
  },
  {
   "cell_type": "raw",
   "metadata": {},
   "source": [
    "have the function grouptotals (strarr) read in the strarr parameter containing key:value pairs where the key is a string and the value is an integer. \n",
    "your program should return a string with new key:value pairs separated by a comma such that each key appears only once with the total values summed up. \n",
    "\n",
    "for example: if strarr is [b: -1, \"a:1\", \"b:3\", \"a:5\"] then your program should return the string a:6,b:2. \n",
    "\n",
    "your final output should return the keys in alphabetical order. exclude keys that have a value of 0 after being summed up. \n",
    "examples: input: [\"x:-1\", \"y:1\", \"x:-4\", \"b:3\", output: b:3,y:1 input: [\"z:0\", \"a:-1\"] output: a:-1"
   ]
  },
  {
   "cell_type": "code",
   "execution_count": 37,
   "metadata": {},
   "outputs": [
    {
     "name": "stdout",
     "output_type": "stream",
     "text": [
      "a:-1,\n",
      "b:3,y:1,\n",
      "a:6,b:2,\n"
     ]
    }
   ],
   "source": [
    "strarr = [\"z:0\", \"a:-1\"]\n",
    "strarr1 = [\"x:-1\", \"y:1\", \"x:-4\", \"b:3\"]\n",
    "strarr2 = [\"b: -1\", \"a:1\", \"b:3\", \"a:5\"]\n",
    "def grouptotals(strarr):\n",
    "    vict = {}\n",
    "    ans = \"\"\n",
    "    for data in strarr:\n",
    "        head,tail = data.split(\":\")\n",
    "        if head in vict and not (vict[head] is None):\n",
    "            miniSum = int(vict[head]) + int(tail)\n",
    "            if miniSum > 0 :  \n",
    "                vict[head] = miniSum\n",
    "            else:\n",
    "                del vict[head]\n",
    "        else:\n",
    "            vict[head] = tail\n",
    "    a = sorted(vict)    \n",
    "    for i in a:\n",
    "        if int(vict[i]) != 0:\n",
    "            ans = ans + i + \":\" +str(vict[i]) + \",\"\n",
    "    return ans\n",
    "print(grouptotals(strarr))\n",
    "print(grouptotals(strarr1))\n",
    "print(grouptotals(strarr2))"
   ]
  },
  {
   "cell_type": "raw",
   "metadata": {},
   "source": [
    "Given the head of a list, remove the nth node from the end of the list and return its head.\n",
    "Input: head = [1,2,3,4,5], n = 2\n",
    "Output: [1,2,3,5]\n",
    "Input: head = [1], n = 1\n",
    "Output: []\n",
    "Input: head = [1,2], n = 1\n",
    "Output: [1]"
   ]
  },
  {
   "cell_type": "code",
   "execution_count": 50,
   "metadata": {},
   "outputs": [
    {
     "name": "stdout",
     "output_type": "stream",
     "text": [
      "[1, 2, 3, 5]\n",
      "[]\n",
      "[1]\n"
     ]
    }
   ],
   "source": [
    "head1 = [1,2,3,4,5]\n",
    "n1 = 2\n",
    "head2 = [1]\n",
    "n2 = 1\n",
    "head3 = [1,2]\n",
    "n3 = 1\n",
    "def removeN(linkedList,n):\n",
    "    i = 0 \n",
    "    try:\n",
    "        while linkedList[i] != None:\n",
    "            i+=1\n",
    "    except:\n",
    "        pass\n",
    "    pos = i-n\n",
    "#     print(pos)\n",
    "    i = 0\n",
    "    while linkedList[i] != None:\n",
    "#         print(i)\n",
    "        if i == pos:\n",
    "            linkedList.pop(i)\n",
    "            return linkedList\n",
    "        i+=1\n",
    "        \n",
    "    \n",
    "    \n",
    "print(removeN(head1,n1))\n",
    "print(removeN(head2,n2))\n",
    "print(removeN(head3,n3))"
   ]
  },
  {
   "cell_type": "markdown",
   "metadata": {},
   "source": [
    "#### __String to Integer (atoi)__"
   ]
  },
  {
   "cell_type": "raw",
   "metadata": {},
   "source": [
    "Implement the myAtoi(string s) function, which converts a string to a 32-bit signed integer (similar to C/C++'s atoi function).\n",
    "\n",
    "The algorithm for myAtoi(string s) is as follows:\n",
    "\n",
    "Read in and ignore any leading whitespace.\n",
    "Check if the next character (if not already at the end of the string) is '-' or '+'. Read this character in if it is either. This determines if the final result is negative or positive respectively. Assume the result is positive if neither is present.\n",
    "Read in next the characters until the next non-digit character or the end of the input is reached. The rest of the string is ignored.\n",
    "Convert these digits into an integer (i.e. \"123\" -> 123, \"0032\" -> 32). If no digits were read, then the integer is 0. Change the sign as necessary (from step 2).\n",
    "If the integer is out of the 32-bit signed integer range [-231, 231 - 1], then clamp the integer so that it remains in the range. Specifically, integers less than -231 should be clamped to -231, and integers greater than 231 - 1 should be clamped to 231 - 1.\n",
    "Return the integer as the final result.\n",
    "Note:\n",
    "\n",
    "Only the space character ' ' is considered a whitespace character.\n",
    "Do not ignore any characters other than the leading whitespace or the rest of the string after the digits.\n",
    " \n",
    "\n",
    "Example 1:\n",
    "\n",
    "Input: s = \"42\"\n",
    "Output: 42\n",
    "Explanation: The underlined characters are what is read in, the caret is the current reader position.\n",
    "Step 1: \"42\" (no characters read because there is no leading whitespace)\n",
    "         ^\n",
    "Step 2: \"42\" (no characters read because there is neither a '-' nor '+')\n",
    "         ^\n",
    "Step 3: \"42\" (\"42\" is read in)\n",
    "           ^\n",
    "The parsed integer is 42.\n",
    "Since 42 is in the range [-231, 231 - 1], the final result is 42.\n",
    "Example 2:\n",
    "\n",
    "Input: s = \"   -42\"\n",
    "Output: -42\n",
    "Explanation:\n",
    "Step 1: \"   -42\" (leading whitespace is read and ignored)\n",
    "            ^\n",
    "Step 2: \"   -42\" ('-' is read, so the result should be negative)\n",
    "             ^\n",
    "Step 3: \"   -42\" (\"42\" is read in)\n",
    "               ^\n",
    "The parsed integer is -42.\n",
    "Since -42 is in the range [-231, 231 - 1], the final result is -42.\n",
    "Example 3:\n",
    "\n",
    "Input: s = \"4193 with words\"\n",
    "Output: 4193\n",
    "Explanation:\n",
    "Step 1: \"4193 with words\" (no characters read because there is no leading whitespace)\n",
    "         ^\n",
    "Step 2: \"4193 with words\" (no characters read because there is neither a '-' nor '+')\n",
    "         ^\n",
    "Step 3: \"4193 with words\" (\"4193\" is read in; reading stops because the next character is a non-digit)\n",
    "             ^\n",
    "The parsed integer is 4193.\n",
    "Since 4193 is in the range [-231, 231 - 1], the final result is 4193."
   ]
  },
  {
   "cell_type": "code",
   "execution_count": 15,
   "metadata": {},
   "outputs": [
    {
     "data": {
      "text/plain": [
       "0"
      ]
     },
     "execution_count": 15,
     "metadata": {},
     "output_type": "execute_result"
    }
   ],
   "source": [
    "s = \"   -42\"\n",
    "def myAtoi(s):\n",
    "    digit = \"\"\n",
    "    for i in s:\n",
    "        if i in [\"-\" , \"+\"] or i in [\"0\",\"1\",\"2\",\"3\",\"4\",\"5\",\"6\",\"7\",\"8\",\"9\"]:\n",
    "            digit = digit + i\n",
    "        else:\n",
    "            digit = \"\"\n",
    "            break\n",
    "    try:\n",
    "        dig = int(digit)\n",
    "        if dig <\n",
    "        return int(digit)\n",
    "    except:\n",
    "        return 0\n",
    "myAtoi(s)"
   ]
  },
  {
   "cell_type": "markdown",
   "metadata": {},
   "source": [
    "#### __Divide Two Integers__"
   ]
  },
  {
   "cell_type": "raw",
   "metadata": {},
   "source": [
    "Given two integers dividend and divisor, divide two integers without using multiplication, division, and mod operator.\n",
    "\n",
    "The integer division should truncate toward zero, which means losing its fractional part. For example, 8.345 would be truncated to 8, and -2.7335 would be truncated to -2.\n",
    "\n",
    "Return the quotient after dividing dividend by divisor.\n",
    "\n",
    "Note: Assume we are dealing with an environment that could only store integers within the 32-bit signed integer range: [−231, 231 − 1]. For this problem, if the quotient is strictly greater than 231 - 1, then return 231 - 1, and if the quotient is strictly less than -231, then return -231.\n",
    "\n",
    " \n",
    "\n",
    "Example 1:\n",
    "\n",
    "Input: dividend = 10, divisor = 3\n",
    "Output: 3\n",
    "Explanation: 10/3 = 3.33333.. which is truncated to 3.\n",
    "Example 2:\n",
    "\n",
    "Input: dividend = 7, divisor = -3\n",
    "Output: -2\n",
    "Explanation: 7/-3 = -2.33333.. which is truncated to -2."
   ]
  },
  {
   "cell_type": "code",
   "execution_count": 21,
   "metadata": {
    "scrolled": true
   },
   "outputs": [
    {
     "data": {
      "text/plain": [
       "5"
      ]
     },
     "execution_count": 21,
     "metadata": {},
     "output_type": "execute_result"
    }
   ],
   "source": [
    "dividend = 15\n",
    "divisor = 3\n",
    "def divide(dividend, divisor):\n",
    "    i = 1\n",
    "    while i != 0:\n",
    "        if divisor * i > dividend:\n",
    "            return i-1\n",
    "        else:\n",
    "            i+=1\n",
    "divide(dividend,divisor)"
   ]
  },
  {
   "cell_type": "markdown",
   "metadata": {},
   "source": [
    "#### __Max Difference You Can Get From Changing an Integer__"
   ]
  },
  {
   "cell_type": "raw",
   "metadata": {},
   "source": [
    "You are given an integer num. You will apply the following steps exactly two times:\n",
    "\n",
    "Pick a digit x (0 <= x <= 9).\n",
    "Pick another digit y (0 <= y <= 9). The digit y can be equal to x.\n",
    "Replace all the occurrences of x in the decimal representation of num by y.\n",
    "The new integer cannot have any leading zeros, also the new integer cannot be 0.\n",
    "Let a and b be the results of applying the operations to num the first and second times, respectively.\n",
    "\n",
    "Return the max difference between a and b.\n",
    "\n",
    " \n",
    "\n",
    "Example 1:\n",
    "\n",
    "Input: num = 555\n",
    "Output: 888\n",
    "Explanation: The first time pick x = 5 and y = 9 and store the new integer in a.\n",
    "The second time pick x = 5 and y = 1 and store the new integer in b.\n",
    "We have now a = 999 and b = 111 and max difference = 888\n",
    "Example 2:\n",
    "\n",
    "Input: num = 9\n",
    "Output: 8\n",
    "Explanation: The first time pick x = 9 and y = 9 and store the new integer in a.\n",
    "The second time pick x = 9 and y = 1 and store the new integer in b.\n",
    "We have now a = 9 and b = 1 and max difference = 8"
   ]
  },
  {
   "cell_type": "code",
   "execution_count": 20,
   "metadata": {},
   "outputs": [
    {
     "name": "stdout",
     "output_type": "stream",
     "text": [
      "RETURNED 9930\n",
      "9930\n",
      "ELSE\n",
      "insidezero\n",
      "RETURNED 30\n",
      "0030\n",
      "Max : 9930, Min : 30\n"
     ]
    },
    {
     "data": {
      "text/plain": [
       "9900"
      ]
     },
     "execution_count": 20,
     "metadata": {},
     "output_type": "execute_result"
    }
   ],
   "source": [
    "10000010\n",
    "inputs = [555,9,123456,1130]\n",
    "def maxDiff(num):\n",
    "    if not (1 < num < 10**8):\n",
    "        return None\n",
    "    \n",
    "    num = str(num)\n",
    "    \n",
    "    if len(num) == 1:\n",
    "        return 8\n",
    "\n",
    "    def changeDigits(number, newValue, zero = None, startPoint = 0):\n",
    "        a = None\n",
    "        if (number[startPoint] != newValue) :\n",
    "            print(\"RETURNED\",int(number.replace(number[startPoint], newValue)))\n",
    "            print(number.replace(number[startPoint], newValue))\n",
    "            return int(number.replace(number[startPoint], newValue))\n",
    "        else:\n",
    "            print(\"ELSE\")\n",
    "            if zero != None:\n",
    "                print(\"insidezero\")\n",
    "                a = changeDigits(number = number, newValue = \"0\", startPoint = startPoint+1)\n",
    "            else:\n",
    "                print(\"insidezeroelse\")    \n",
    "                a = changeDigits(number = number, newValue = \"9\", startPoint = startPoint+1)\n",
    "        return a  \n",
    "\n",
    "    maxNum = changeDigits(number = num, newValue = \"9\")\n",
    "    minNum = changeDigits(number = num, zero = True, newValue = \"1\" )    \n",
    "    print(f\"Max : {maxNum}, Min : {minNum}\")\n",
    "    return maxNum - minNum\n",
    "\n",
    "maxDiff(inputs[3])"
   ]
  },
  {
   "cell_type": "markdown",
   "metadata": {},
   "source": [
    "#### __Number of Common Factors__"
   ]
  },
  {
   "cell_type": "raw",
   "metadata": {},
   "source": [
    "Given two positive integers a and b, return the number of common factors of a and b.\n",
    "An integer x is a common factor of a and b if x divides both a and b.\n",
    "\n",
    " \n",
    "Example 1:\n",
    "Input: a = 12, b = 6\n",
    "Output: 4\n",
    "Explanation: The common factors of 12 and 6 are 1, 2, 3, 6.\n",
    "\n",
    "Example 2:\n",
    "Input: a = 25, b = 30\n",
    "Output: 2\n",
    "Explanation: The common factors of 25 and 30 are 1, 5."
   ]
  },
  {
   "cell_type": "code",
   "execution_count": 10,
   "metadata": {},
   "outputs": [
    {
     "name": "stdout",
     "output_type": "stream",
     "text": [
      "295.0\n",
      "177.0\n",
      "59.0\n",
      "15.0\n",
      "5.0\n",
      "3.0\n",
      "1.0\n"
     ]
    },
    {
     "data": {
      "text/plain": [
       "8"
      ]
     },
     "execution_count": 10,
     "metadata": {},
     "output_type": "execute_result"
    }
   ],
   "source": [
    "\n",
    "def commonFactors(a,b):\n",
    "    counter = 0\n",
    "    for i in range(2,max([a,b])+1):\n",
    "        if a%i == 0 and b%i == 0 :\n",
    "            counter+=1\n",
    "    return counter+1\n",
    "\n",
    "commonFactors(885,885)\n"
   ]
  },
  {
   "cell_type": "code",
   "execution_count": 3,
   "metadata": {},
   "outputs": [
    {
     "data": {
      "text/plain": [
       "0"
      ]
     },
     "execution_count": 3,
     "metadata": {},
     "output_type": "execute_result"
    }
   ],
   "source": [
    "4%2"
   ]
  },
  {
   "cell_type": "code",
   "execution_count": null,
   "metadata": {},
   "outputs": [],
   "source": []
  }
 ],
 "metadata": {
  "kernelspec": {
   "display_name": "Python 3.9.7 ('base')",
   "language": "python",
   "name": "python3"
  },
  "language_info": {
   "codemirror_mode": {
    "name": "ipython",
    "version": 3
   },
   "file_extension": ".py",
   "mimetype": "text/x-python",
   "name": "python",
   "nbconvert_exporter": "python",
   "pygments_lexer": "ipython3",
   "version": "3.9.7"
  },
  "vscode": {
   "interpreter": {
    "hash": "e36315da3f8d88bf7dd3ba24d6d9da372df0fc3342d6e69de3bddff59768a8cb"
   }
  }
 },
 "nbformat": 4,
 "nbformat_minor": 4
}
